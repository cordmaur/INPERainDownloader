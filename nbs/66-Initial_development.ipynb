{
 "cells": [
  {
   "attachments": {},
   "cell_type": "markdown",
   "metadata": {},
   "source": [
    "# Initial Package Install"
   ]
  },
  {
   "cell_type": "code",
   "execution_count": 1,
   "metadata": {},
   "outputs": [],
   "source": [
    "%load_ext autoreload\n",
    "%autoreload 2"
   ]
  },
  {
   "cell_type": "code",
   "execution_count": 2,
   "metadata": {},
   "outputs": [],
   "source": [
    "import raindownloader"
   ]
  },
  {
   "cell_type": "code",
   "execution_count": 3,
   "metadata": {},
   "outputs": [
    {
     "data": {
      "text/plain": [
       "<module 'raindownloader' from '/Users/cordmaur/Projects/INPERainDownloader/raindownloader/__init__.py'>"
      ]
     },
     "execution_count": 3,
     "metadata": {},
     "output_type": "execute_result"
    }
   ],
   "source": [
    "raindownloader"
   ]
  },
  {
   "cell_type": "code",
   "execution_count": 4,
   "metadata": {},
   "outputs": [
    {
     "data": {
      "text/plain": [
       "'0.1.1'"
      ]
     },
     "execution_count": 4,
     "metadata": {},
     "output_type": "execute_result"
    }
   ],
   "source": [
    "raindownloader.version"
   ]
  },
  {
   "attachments": {},
   "cell_type": "markdown",
   "metadata": {},
   "source": [
    "# Accessing INPE \"FTP\""
   ]
  },
  {
   "attachments": {},
   "cell_type": "markdown",
   "metadata": {},
   "source": [
    "An important note about the INPE \"FTP\" is that the files are available under the HTTP protocol, so we cannot use FTP here. <br>\n",
    "After some research I found out the best option to do this is to use a BeautifulSoup to parse the directory content."
   ]
  },
  {
   "cell_type": "code",
   "execution_count": 5,
   "metadata": {},
   "outputs": [],
   "source": [
    "from bs4 import BeautifulSoup\n",
    "import requests\n",
    "from raindownloader.http_utils import HTTPFileSystem, HTTPFile, Urls"
   ]
  },
  {
   "cell_type": "code",
   "execution_count": 6,
   "metadata": {},
   "outputs": [
    {
     "data": {
      "text/plain": [
       "[<a abs_href=\"http://ftp.cptec.inpe.br/modelos/tempo/MERGE/GPM/DAILY/2000/\" href=\"2000/\">2000/</a>,\n",
       " <a abs_href=\"http://ftp.cptec.inpe.br/modelos/tempo/MERGE/GPM/DAILY/2001/\" href=\"2001/\">2001/</a>,\n",
       " <a abs_href=\"http://ftp.cptec.inpe.br/modelos/tempo/MERGE/GPM/DAILY/2002/\" href=\"2002/\">2002/</a>]"
      ]
     },
     "execution_count": 6,
     "metadata": {},
     "output_type": "execute_result"
    }
   ],
   "source": [
    "url = 'http://ftp.cptec.inpe.br/modelos/tempo/MERGE/GPM/DAILY/'\n",
    "fs = HTTPFileSystem(url)\n",
    "fs.links[:3]"
   ]
  },
  {
   "cell_type": "code",
   "execution_count": 7,
   "metadata": {},
   "outputs": [
    {
     "data": {
      "text/plain": [
       "[<a abs_href=\"http://ftp.cptec.inpe.br/modelos/tempo/MERGE/GPM/DAILY/MERGE_CPTEC_2000_2022.ctl\" href=\"MERGE_CPTEC_2000_2022.ctl\">MERGE_CPTEC_2000_2022.ctl</a>,\n",
       " <a abs_href=\"http://ftp.cptec.inpe.br/modelos/tempo/MERGE/GPM/DAILY/MERGE_CPTEC_2000_2022.idx\" href=\"MERGE_CPTEC_2000_2022.idx\">MERGE_CPTEC_2000_2022.idx</a>,\n",
       " <a abs_href=\"http://ftp.cptec.inpe.br/modelos/tempo/MERGE/GPM/DAILY/MERGE_CPTEC_2023.ctl\" href=\"MERGE_CPTEC_2023.ctl\">MERGE_CPTEC_2023.ctl</a>]"
      ]
     },
     "execution_count": 7,
     "metadata": {},
     "output_type": "execute_result"
    }
   ],
   "source": [
    "fs.files[:3]"
   ]
  },
  {
   "cell_type": "code",
   "execution_count": 8,
   "metadata": {},
   "outputs": [
    {
     "data": {
      "text/plain": [
       "[<a abs_href=\"http://ftp.cptec.inpe.br/modelos/tempo/MERGE/GPM/DAILY/2000/\" href=\"2000/\">2000/</a>,\n",
       " <a abs_href=\"http://ftp.cptec.inpe.br/modelos/tempo/MERGE/GPM/DAILY/2001/\" href=\"2001/\">2001/</a>,\n",
       " <a abs_href=\"http://ftp.cptec.inpe.br/modelos/tempo/MERGE/GPM/DAILY/2002/\" href=\"2002/\">2002/</a>]"
      ]
     },
     "execution_count": 8,
     "metadata": {},
     "output_type": "execute_result"
    }
   ],
   "source": [
    "fs.folders[:3]"
   ]
  },
  {
   "cell_type": "code",
   "execution_count": 9,
   "metadata": {},
   "outputs": [
    {
     "data": {
      "text/plain": [
       "'http://ftp.cptec.inpe.br/modelos/tempo/MERGE/GPM/DAILY/'"
      ]
     },
     "execution_count": 9,
     "metadata": {},
     "output_type": "execute_result"
    }
   ],
   "source": [
    "fs.url"
   ]
  },
  {
   "cell_type": "code",
   "execution_count": 10,
   "metadata": {},
   "outputs": [
    {
     "data": {
      "text/plain": [
       "[<a abs_href=\"http://ftp.cptec.inpe.br/modelos/tempo/MERGE/GPM/DAILY/2000/06/\" href=\"06/\">06/</a>,\n",
       " <a abs_href=\"http://ftp.cptec.inpe.br/modelos/tempo/MERGE/GPM/DAILY/2000/07/\" href=\"07/\">07/</a>,\n",
       " <a abs_href=\"http://ftp.cptec.inpe.br/modelos/tempo/MERGE/GPM/DAILY/2000/08/\" href=\"08/\">08/</a>,\n",
       " <a abs_href=\"http://ftp.cptec.inpe.br/modelos/tempo/MERGE/GPM/DAILY/2000/09/\" href=\"09/\">09/</a>,\n",
       " <a abs_href=\"http://ftp.cptec.inpe.br/modelos/tempo/MERGE/GPM/DAILY/2000/10/\" href=\"10/\">10/</a>,\n",
       " <a abs_href=\"http://ftp.cptec.inpe.br/modelos/tempo/MERGE/GPM/DAILY/2000/11/\" href=\"11/\">11/</a>,\n",
       " <a abs_href=\"http://ftp.cptec.inpe.br/modelos/tempo/MERGE/GPM/DAILY/2000/12/\" href=\"12/\">12/</a>]"
      ]
     },
     "execution_count": 10,
     "metadata": {},
     "output_type": "execute_result"
    }
   ],
   "source": [
    "fs.open_folder('2000/').folders"
   ]
  },
  {
   "cell_type": "code",
   "execution_count": 11,
   "metadata": {},
   "outputs": [],
   "source": [
    "httpfile = HTTPFile(fs.files[0].get('abs_href'))"
   ]
  },
  {
   "cell_type": "code",
   "execution_count": 12,
   "metadata": {},
   "outputs": [],
   "source": [
    "# httpfile.info"
   ]
  },
  {
   "attachments": {},
   "cell_type": "markdown",
   "metadata": {},
   "source": [
    "# Now parsing with INPE structure"
   ]
  },
  {
   "cell_type": "code",
   "execution_count": 13,
   "metadata": {},
   "outputs": [],
   "source": [
    "from raindownloader.http_utils import INPEHTTPFileSystem, MERGEFile"
   ]
  },
  {
   "cell_type": "code",
   "execution_count": 14,
   "metadata": {},
   "outputs": [],
   "source": [
    "inpe = INPEHTTPFileSystem(Urls.MERGE)"
   ]
  },
  {
   "cell_type": "code",
   "execution_count": 15,
   "metadata": {},
   "outputs": [
    {
     "data": {
      "text/plain": [
       "['2000', '2001', '2002']"
      ]
     },
     "execution_count": 15,
     "metadata": {},
     "output_type": "execute_result"
    }
   ],
   "source": [
    "inpe.years[:3]"
   ]
  },
  {
   "cell_type": "code",
   "execution_count": 16,
   "metadata": {},
   "outputs": [
    {
     "data": {
      "text/plain": [
       "['01', '02']"
      ]
     },
     "execution_count": 16,
     "metadata": {},
     "output_type": "execute_result"
    }
   ],
   "source": [
    "inpe.months_by_year(year='2023')"
   ]
  },
  {
   "cell_type": "code",
   "execution_count": 17,
   "metadata": {},
   "outputs": [
    {
     "data": {
      "text/plain": [
       "[<a abs_href=\"http://ftp.cptec.inpe.br/modelos/tempo/MERGE/GPM/DAILY/2023/02/MERGE_CPTEC_20230201.grib2\" href=\"MERGE_CPTEC_20230201.grib2\">MERGE_CPTEC_20230201.grib2</a>,\n",
       " <a abs_href=\"http://ftp.cptec.inpe.br/modelos/tempo/MERGE/GPM/DAILY/2023/02/MERGE_CPTEC_20230202.grib2\" href=\"MERGE_CPTEC_20230202.grib2\">MERGE_CPTEC_20230202.grib2</a>,\n",
       " <a abs_href=\"http://ftp.cptec.inpe.br/modelos/tempo/MERGE/GPM/DAILY/2023/02/MERGE_CPTEC_20230203.grib2\" href=\"MERGE_CPTEC_20230203.grib2\">MERGE_CPTEC_20230203.grib2</a>]"
      ]
     },
     "execution_count": 17,
     "metadata": {},
     "output_type": "execute_result"
    }
   ],
   "source": [
    "inpe.files_by_month(year='2023', month='02')[:3]"
   ]
  },
  {
   "cell_type": "code",
   "execution_count": 18,
   "metadata": {},
   "outputs": [
    {
     "data": {
      "text/plain": [
       "[datetime.datetime(2023, 2, 1, 0, 0),\n",
       " datetime.datetime(2023, 2, 2, 0, 0),\n",
       " datetime.datetime(2023, 2, 3, 0, 0)]"
      ]
     },
     "execution_count": 18,
     "metadata": {},
     "output_type": "execute_result"
    }
   ],
   "source": [
    "inpe.dates_by_month(year='2023', month='02')[:3]"
   ]
  },
  {
   "cell_type": "code",
   "execution_count": 30,
   "metadata": {},
   "outputs": [
    {
     "ename": "Exception",
     "evalue": "No '.grib2' files found for date 20230228",
     "output_type": "error",
     "traceback": [
      "\u001b[0;31m---------------------------------------------------------------------------\u001b[0m",
      "\u001b[0;31mException\u001b[0m                                 Traceback (most recent call last)",
      "Cell \u001b[0;32mIn[30], line 1\u001b[0m\n\u001b[0;32m----> 1\u001b[0m merge \u001b[39m=\u001b[39m inpe\u001b[39m.\u001b[39;49mget_file(\u001b[39m'\u001b[39;49m\u001b[39m20230228\u001b[39;49m\u001b[39m'\u001b[39;49m)\n",
      "File \u001b[0;32m~/Projects/INPERainDownloader/raindownloader/http_utils.py:190\u001b[0m, in \u001b[0;36mINPEHTTPFileSystem.get_file\u001b[0;34m(self, date)\u001b[0m\n\u001b[1;32m    188\u001b[0m links \u001b[39m=\u001b[39m [f \u001b[39mfor\u001b[39;00m f \u001b[39min\u001b[39;00m files \u001b[39mif\u001b[39;00m dt\u001b[39m.\u001b[39mstrftime(\u001b[39m\"\u001b[39m\u001b[39m%\u001b[39m\u001b[39mY\u001b[39m\u001b[39m%\u001b[39m\u001b[39mm\u001b[39m\u001b[39m%d\u001b[39;00m\u001b[39m\"\u001b[39m) \u001b[39min\u001b[39;00m f\u001b[39m.\u001b[39mtext]\n\u001b[1;32m    189\u001b[0m \u001b[39mif\u001b[39;00m \u001b[39mlen\u001b[39m(links) \u001b[39m==\u001b[39m \u001b[39m0\u001b[39m:\n\u001b[0;32m--> 190\u001b[0m     \u001b[39mraise\u001b[39;00m \u001b[39mException\u001b[39;00m(\u001b[39mf\u001b[39m\u001b[39m\"\u001b[39m\u001b[39mNo \u001b[39m\u001b[39m'\u001b[39m\u001b[39m.\u001b[39m\u001b[39m{\u001b[39;00m\u001b[39mself\u001b[39m\u001b[39m.\u001b[39mrain_parser\u001b[39m.\u001b[39mext\u001b[39m}\u001b[39;00m\u001b[39m'\u001b[39m\u001b[39m files found for date \u001b[39m\u001b[39m{\u001b[39;00mdate\u001b[39m}\u001b[39;00m\u001b[39m\"\u001b[39m)\n\u001b[1;32m    191\u001b[0m \u001b[39melif\u001b[39;00m \u001b[39mlen\u001b[39m(links) \u001b[39m>\u001b[39m \u001b[39m1\u001b[39m:\n\u001b[1;32m    192\u001b[0m     \u001b[39mraise\u001b[39;00m \u001b[39mException\u001b[39;00m(\n\u001b[1;32m    193\u001b[0m         \u001b[39mf\u001b[39m\u001b[39m\"\u001b[39m\u001b[39mMore than 1 \u001b[39m\u001b[39m'\u001b[39m\u001b[39m.\u001b[39m\u001b[39m{\u001b[39;00m\u001b[39mself\u001b[39m\u001b[39m.\u001b[39mrain_parser\u001b[39m.\u001b[39mext\u001b[39m}\u001b[39;00m\u001b[39m'\u001b[39m\u001b[39m file found for date \u001b[39m\u001b[39m{\u001b[39;00mdate\u001b[39m}\u001b[39;00m\u001b[39m\"\u001b[39m\n\u001b[1;32m    194\u001b[0m     )\n",
      "\u001b[0;31mException\u001b[0m: No '.grib2' files found for date 20230228"
     ]
    }
   ],
   "source": [
    "merge = inpe.get_file('20230228')"
   ]
  },
  {
   "cell_type": "code",
   "execution_count": 20,
   "metadata": {},
   "outputs": [
    {
     "data": {
      "text/plain": [
       "{'Server': 'Apache',\n",
       " 'Last-Modified': datetime.datetime(2023, 2, 28, 1, 39, 31, tzinfo=tzutc()),\n",
       " 'ETag': '\"75820-5f5b8aabf3ac0\"',\n",
       " 'Accept-Ranges': 'bytes',\n",
       " 'Content-Length': '481312',\n",
       " 'Access-Control-Allow-Origin': '*',\n",
       " 'Keep-Alive': 'timeout=5, max=100',\n",
       " 'Connection': 'Keep-Alive',\n",
       " 'Request_time': datetime.datetime(2023, 2, 28, 14, 16, 57, tzinfo=tzutc()),\n",
       " 'model': 'MERGE',\n",
       " 'provider': 'CPTEC',\n",
       " 'date': datetime.datetime(2023, 2, 27, 0, 0),\n",
       " 'ext': 'grib2'}"
      ]
     },
     "execution_count": 20,
     "metadata": {},
     "output_type": "execute_result"
    }
   ],
   "source": [
    "merge.info"
   ]
  },
  {
   "cell_type": "code",
   "execution_count": 21,
   "metadata": {},
   "outputs": [
    {
     "data": {
      "text/plain": [
       "{'Date': 'Tue, 28 Feb 2023 14:16:57 GMT',\n",
       " 'Server': 'Apache',\n",
       " 'Last-Modified': 'Tue, 28 Feb 2023 01:39:31 GMT',\n",
       " 'ETag': '\"75820-5f5b8aabf3ac0\"',\n",
       " 'Accept-Ranges': 'bytes',\n",
       " 'Content-Length': '481312',\n",
       " 'Access-Control-Allow-Origin': '*',\n",
       " 'Keep-Alive': 'timeout=5, max=100',\n",
       " 'Connection': 'Keep-Alive'}"
      ]
     },
     "execution_count": 21,
     "metadata": {},
     "output_type": "execute_result"
    }
   ],
   "source": [
    "merge.header"
   ]
  },
  {
   "cell_type": "code",
   "execution_count": 22,
   "metadata": {},
   "outputs": [
    {
     "data": {
      "text/plain": [
       "'MERGE_CPTEC_20230227.grib2'"
      ]
     },
     "execution_count": 22,
     "metadata": {},
     "output_type": "execute_result"
    }
   ],
   "source": [
    "merge.filename"
   ]
  },
  {
   "cell_type": "code",
   "execution_count": 24,
   "metadata": {},
   "outputs": [],
   "source": [
    "import xarray as xr"
   ]
  },
  {
   "cell_type": "code",
   "execution_count": 34,
   "metadata": {},
   "outputs": [
    {
     "data": {
      "text/plain": [
       "<matplotlib.collections.QuadMesh at 0x16b07ceb0>"
      ]
     },
     "execution_count": 34,
     "metadata": {},
     "output_type": "execute_result"
    },
    {
     "data": {
      "image/png": "[encoded data removed]",
      "text/plain": [
       "<Figure size 640x480 with 2 Axes>"
      ]
     },
     "metadata": {},
     "output_type": "display_data"
    }
   ],
   "source": [
    "inpe = INPEHTTPFileSystem(Urls.MERGE)\n",
    "rain = inpe.get_file('20230223')\n",
    "path = rain.download('../tests/data')\n",
    "ds = xr.open_dataset(path, engine='cfgrib')\n",
    "\n",
    "ds['prec'].plot()"
   ]
  },
  {
   "cell_type": "code",
   "execution_count": 26,
   "metadata": {},
   "outputs": [],
   "source": [
    "ds = xr.open_dataset(f, engine='cfgrib')"
   ]
  },
  {
   "cell_type": "code",
   "execution_count": 29,
   "metadata": {},
   "outputs": [
    {
     "data": {
      "text/html": [
       "<div><svg style=\"position: absolute; width: 0; height: 0; overflow: hidden\">\n",
       "<defs>\n",
       "<symbol id=\"icon-database\" viewBox=\"0 0 32 32\">\n",
       "<path d=\"M16 0c-8.837 0-16 2.239-16 5v4c0 2.761 7.163 5 16 5s16-2.239 16-5v-4c0-2.761-7.163-5-16-5z\"></path>\n",
       "<path d=\"M16 17c-8.837 0-16-2.239-16-5v6c0 2.761 7.163 5 16 5s16-2.239 16-5v-6c0 2.761-7.163 5-16 5z\"></path>\n",
       "<path d=\"M16 26c-8.837 0-16-2.239-16-5v6c0 2.761 7.163 5 16 5s16-2.239 16-5v-6c0 2.761-7.163 5-16 5z\"></path>\n",
       "</symbol>\n",
       "<symbol id=\"icon-file-text2\" viewBox=\"0 0 32 32\">\n",
       "<path d=\"M28.681 7.159c-0.694-0.947-1.662-2.053-2.724-3.116s-2.169-2.030-3.116-2.724c-1.612-1.182-2.393-1.319-2.841-1.319h-15.5c-1.378 0-2.5 1.121-2.5 2.5v27c0 1.378 1.122 2.5 2.5 2.5h23c1.378 0 2.5-1.122 2.5-2.5v-19.5c0-0.448-0.137-1.23-1.319-2.841zM24.543 5.457c0.959 0.959 1.712 1.825 2.268 2.543h-4.811v-4.811c0.718 0.556 1.584 1.309 2.543 2.268zM28 29.5c0 0.271-0.229 0.5-0.5 0.5h-23c-0.271 0-0.5-0.229-0.5-0.5v-27c0-0.271 0.229-0.5 0.5-0.5 0 0 15.499-0 15.5 0v7c0 0.552 0.448 1 1 1h7v19.5z\"></path>\n",
       "<path d=\"M23 26h-14c-0.552 0-1-0.448-1-1s0.448-1 1-1h14c0.552 0 1 0.448 1 1s-0.448 1-1 1z\"></path>\n",
       "<path d=\"M23 22h-14c-0.552 0-1-0.448-1-1s0.448-1 1-1h14c0.552 0 1 0.448 1 1s-0.448 1-1 1z\"></path>\n",
       "<path d=\"M23 18h-14c-0.552 0-1-0.448-1-1s0.448-1 1-1h14c0.552 0 1 0.448 1 1s-0.448 1-1 1z\"></path>\n",
       "</symbol>\n",
       "</defs>\n",
       "</svg>\n",
       "<style>/* CSS stylesheet for displaying xarray objects in jupyterlab.\n",
       " *\n",
       " */\n",
       "\n",
       ":root {\n",
       "  --xr-font-color0: var(--jp-content-font-color0, rgba(0, 0, 0, 1));\n",
       "  --xr-font-color2: var(--jp-content-font-color2, rgba(0, 0, 0, 0.54));\n",
       "  --xr-font-color3: var(--jp-content-font-color3, rgba(0, 0, 0, 0.38));\n",
       "  --xr-border-color: var(--jp-border-color2, #e0e0e0);\n",
       "  --xr-disabled-color: var(--jp-layout-color3, #bdbdbd);\n",
       "  --xr-background-color: var(--jp-layout-color0, white);\n",
       "  --xr-background-color-row-even: var(--jp-layout-color1, white);\n",
       "  --xr-background-color-row-odd: var(--jp-layout-color2, #eeeeee);\n",
       "}\n",
       "\n",
       "html[theme=dark],\n",
       "body[data-theme=dark],\n",
       "body.vscode-dark {\n",
       "  --xr-font-color0: rgba(255, 255, 255, 1);\n",
       "  --xr-font-color2: rgba(255, 255, 255, 0.54);\n",
       "  --xr-font-color3: rgba(255, 255, 255, 0.38);\n",
       "  --xr-border-color: #1F1F1F;\n",
       "  --xr-disabled-color: #515151;\n",
       "  --xr-background-color: #111111;\n",
       "  --xr-background-color-row-even: #111111;\n",
       "  --xr-background-color-row-odd: #313131;\n",
       "}\n",
       "\n",
       ".xr-wrap {\n",
       "  display: block !important;\n",
       "  min-width: 300px;\n",
       "  max-width: 700px;\n",
       "}\n",
       "\n",
       ".xr-text-repr-fallback {\n",
       "  /* fallback to plain text repr when CSS is not injected (untrusted notebook) */\n",
       "  display: none;\n",
       "}\n",
       "\n",
       ".xr-header {\n",
       "  padding-top: 6px;\n",
       "  padding-bottom: 6px;\n",
       "  margin-bottom: 4px;\n",
       "  border-bottom: solid 1px var(--xr-border-color);\n",
       "}\n",
       "\n",
       ".xr-header > div,\n",
       ".xr-header > ul {\n",
       "  display: inline;\n",
       "  margin-top: 0;\n",
       "  margin-bottom: 0;\n",
       "}\n",
       "\n",
       ".xr-obj-type,\n",
       ".xr-array-name {\n",
       "  margin-left: 2px;\n",
       "  margin-right: 10px;\n",
       "}\n",
       "\n",
       ".xr-obj-type {\n",
       "  color: var(--xr-font-color2);\n",
       "}\n",
       "\n",
       ".xr-sections {\n",
       "  padding-left: 0 !important;\n",
       "  display: grid;\n",
       "  grid-template-columns: 150px auto auto 1fr 20px 20px;\n",
       "}\n",
       "\n",
       ".xr-section-item {\n",
       "  display: contents;\n",
       "}\n",
       "\n",
       ".xr-section-item input {\n",
       "  display: none;\n",
       "}\n",
       "\n",
       ".xr-section-item input + label {\n",
       "  color: var(--xr-disabled-color);\n",
       "}\n",
       "\n",
       ".xr-section-item input:enabled + label {\n",
       "  cursor: pointer;\n",
       "  color: var(--xr-font-color2);\n",
       "}\n",
       "\n",
       ".xr-section-item input:enabled + label:hover {\n",
       "  color: var(--xr-font-color0);\n",
       "}\n",
       "\n",
       ".xr-section-summary {\n",
       "  grid-column: 1;\n",
       "  color: var(--xr-font-color2);\n",
       "  font-weight: 500;\n",
       "}\n",
       "\n",
       ".xr-section-summary > span {\n",
       "  display: inline-block;\n",
       "  padding-left: 0.5em;\n",
       "}\n",
       "\n",
       ".xr-section-summary-in:disabled + label {\n",
       "  color: var(--xr-font-color2);\n",
       "}\n",
       "\n",
       ".xr-section-summary-in + label:before {\n",
       "  display: inline-block;\n",
       "  content: '►';\n",
       "  font-size: 11px;\n",
       "  width: 15px;\n",
       "  text-align: center;\n",
       "}\n",
       "\n",
       ".xr-section-summary-in:disabled + label:before {\n",
       "  color: var(--xr-disabled-color);\n",
       "}\n",
       "\n",
       ".xr-section-summary-in:checked + label:before {\n",
       "  content: '▼';\n",
       "}\n",
       "\n",
       ".xr-section-summary-in:checked + label > span {\n",
       "  display: none;\n",
       "}\n",
       "\n",
       ".xr-section-summary,\n",
       ".xr-section-inline-details {\n",
       "  padding-top: 4px;\n",
       "  padding-bottom: 4px;\n",
       "}\n",
       "\n",
       ".xr-section-inline-details {\n",
       "  grid-column: 2 / -1;\n",
       "}\n",
       "\n",
       ".xr-section-details {\n",
       "  display: none;\n",
       "  grid-column: 1 / -1;\n",
       "  margin-bottom: 5px;\n",
       "}\n",
       "\n",
       ".xr-section-summary-in:checked ~ .xr-section-details {\n",
       "  display: contents;\n",
       "}\n",
       "\n",
       ".xr-array-wrap {\n",
       "  grid-column: 1 / -1;\n",
       "  display: grid;\n",
       "  grid-template-columns: 20px auto;\n",
       "}\n",
       "\n",
       ".xr-array-wrap > label {\n",
       "  grid-column: 1;\n",
       "  vertical-align: top;\n",
       "}\n",
       "\n",
       ".xr-preview {\n",
       "  color: var(--xr-font-color3);\n",
       "}\n",
       "\n",
       ".xr-array-preview,\n",
       ".xr-array-data {\n",
       "  padding: 0 5px !important;\n",
       "  grid-column: 2;\n",
       "}\n",
       "\n",
       ".xr-array-data,\n",
       ".xr-array-in:checked ~ .xr-array-preview {\n",
       "  display: none;\n",
       "}\n",
       "\n",
       ".xr-array-in:checked ~ .xr-array-data,\n",
       ".xr-array-preview {\n",
       "  display: inline-block;\n",
       "}\n",
       "\n",
       ".xr-dim-list {\n",
       "  display: inline-block !important;\n",
       "  list-style: none;\n",
       "  padding: 0 !important;\n",
       "  margin: 0;\n",
       "}\n",
       "\n",
       ".xr-dim-list li {\n",
       "  display: inline-block;\n",
       "  padding: 0;\n",
       "  margin: 0;\n",
       "}\n",
       "\n",
       ".xr-dim-list:before {\n",
       "  content: '(';\n",
       "}\n",
       "\n",
       ".xr-dim-list:after {\n",
       "  content: ')';\n",
       "}\n",
       "\n",
       ".xr-dim-list li:not(:last-child):after {\n",
       "  content: ',';\n",
       "  padding-right: 5px;\n",
       "}\n",
       "\n",
       ".xr-has-index {\n",
       "  font-weight: bold;\n",
       "}\n",
       "\n",
       ".xr-var-list,\n",
       ".xr-var-item {\n",
       "  display: contents;\n",
       "}\n",
       "\n",
       ".xr-var-item > div,\n",
       ".xr-var-item label,\n",
       ".xr-var-item > .xr-var-name span {\n",
       "  background-color: var(--xr-background-color-row-even);\n",
       "  margin-bottom: 0;\n",
       "}\n",
       "\n",
       ".xr-var-item > .xr-var-name:hover span {\n",
       "  padding-right: 5px;\n",
       "}\n",
       "\n",
       ".xr-var-list > li:nth-child(odd) > div,\n",
       ".xr-var-list > li:nth-child(odd) > label,\n",
       ".xr-var-list > li:nth-child(odd) > .xr-var-name span {\n",
       "  background-color: var(--xr-background-color-row-odd);\n",
       "}\n",
       "\n",
       ".xr-var-name {\n",
       "  grid-column: 1;\n",
       "}\n",
       "\n",
       ".xr-var-dims {\n",
       "  grid-column: 2;\n",
       "}\n",
       "\n",
       ".xr-var-dtype {\n",
       "  grid-column: 3;\n",
       "  text-align: right;\n",
       "  color: var(--xr-font-color2);\n",
       "}\n",
       "\n",
       ".xr-var-preview {\n",
       "  grid-column: 4;\n",
       "}\n",
       "\n",
       ".xr-index-preview {\n",
       "  grid-column: 2 / 5;\n",
       "  color: var(--xr-font-color2);\n",
       "}\n",
       "\n",
       ".xr-var-name,\n",
       ".xr-var-dims,\n",
       ".xr-var-dtype,\n",
       ".xr-preview,\n",
       ".xr-attrs dt {\n",
       "  white-space: nowrap;\n",
       "  overflow: hidden;\n",
       "  text-overflow: ellipsis;\n",
       "  padding-right: 10px;\n",
       "}\n",
       "\n",
       ".xr-var-name:hover,\n",
       ".xr-var-dims:hover,\n",
       ".xr-var-dtype:hover,\n",
       ".xr-attrs dt:hover {\n",
       "  overflow: visible;\n",
       "  width: auto;\n",
       "  z-index: 1;\n",
       "}\n",
       "\n",
       ".xr-var-attrs,\n",
       ".xr-var-data,\n",
       ".xr-index-data {\n",
       "  display: none;\n",
       "  background-color: var(--xr-background-color) !important;\n",
       "  padding-bottom: 5px !important;\n",
       "}\n",
       "\n",
       ".xr-var-attrs-in:checked ~ .xr-var-attrs,\n",
       ".xr-var-data-in:checked ~ .xr-var-data,\n",
       ".xr-index-data-in:checked ~ .xr-index-data {\n",
       "  display: block;\n",
       "}\n",
       "\n",
       ".xr-var-data > table {\n",
       "  float: right;\n",
       "}\n",
       "\n",
       ".xr-var-name span,\n",
       ".xr-var-data,\n",
       ".xr-index-name div,\n",
       ".xr-index-data,\n",
       ".xr-attrs {\n",
       "  padding-left: 25px !important;\n",
       "}\n",
       "\n",
       ".xr-attrs,\n",
       ".xr-var-attrs,\n",
       ".xr-var-data,\n",
       ".xr-index-data {\n",
       "  grid-column: 1 / -1;\n",
       "}\n",
       "\n",
       "dl.xr-attrs {\n",
       "  padding: 0;\n",
       "  margin: 0;\n",
       "  display: grid;\n",
       "  grid-template-columns: 125px auto;\n",
       "}\n",
       "\n",
       ".xr-attrs dt,\n",
       ".xr-attrs dd {\n",
       "  padding: 0;\n",
       "  margin: 0;\n",
       "  float: left;\n",
       "  padding-right: 10px;\n",
       "  width: auto;\n",
       "}\n",
       "\n",
       ".xr-attrs dt {\n",
       "  font-weight: normal;\n",
       "  grid-column: 1;\n",
       "}\n",
       "\n",
       ".xr-attrs dt:hover span {\n",
       "  display: inline-block;\n",
       "  background: var(--xr-background-color);\n",
       "  padding-right: 10px;\n",
       "}\n",
       "\n",
       ".xr-attrs dd {\n",
       "  grid-column: 2;\n",
       "  white-space: pre-wrap;\n",
       "  word-break: break-all;\n",
       "}\n",
       "\n",
       ".xr-icon-database,\n",
       ".xr-icon-file-text2,\n",
       ".xr-no-icon {\n",
       "  display: inline-block;\n",
       "  vertical-align: middle;\n",
       "  width: 1em;\n",
       "  height: 1.5em !important;\n",
       "  stroke-width: 0;\n",
       "  stroke: currentColor;\n",
       "  fill: currentColor;\n",
       "}\n",
       "</style><pre class='xr-text-repr-fallback'>&lt;xarray.DataArray &#x27;prec&#x27; (latitude: 924, longitude: 1001)&gt;\n",
       "[924924 values with dtype=float32]\n",
       "Coordinates:\n",
       "    time        datetime64[ns] ...\n",
       "    step        timedelta64[ns] ...\n",
       "    surface     float64 ...\n",
       "  * latitude    (latitude) float64 -60.05 -59.95 -59.85 ... 32.05 32.15 32.25\n",
       "  * longitude   (longitude) float64 239.9 240.0 240.1 ... 339.8 339.9 339.9\n",
       "    valid_time  datetime64[ns] ...\n",
       "Attributes: (12/29)\n",
       "    GRIB_paramId:                             260138\n",
       "    GRIB_dataType:                            an\n",
       "    GRIB_numberOfPoints:                      924924\n",
       "    GRIB_typeOfLevel:                         surface\n",
       "    GRIB_stepUnits:                           1\n",
       "    GRIB_stepType:                            instant\n",
       "    ...                                       ...\n",
       "    GRIB_name:                                Precipitation\n",
       "    GRIB_shortName:                           prec\n",
       "    GRIB_units:                               kg m**-2\n",
       "    long_name:                                Precipitation\n",
       "    units:                                    kg m**-2\n",
       "    standard_name:                            unknown</pre><div class='xr-wrap' style='display:none'><div class='xr-header'><div class='xr-obj-type'>xarray.DataArray</div><div class='xr-array-name'>'prec'</div><ul class='xr-dim-list'><li><span class='xr-has-index'>latitude</span>: 924</li><li><span class='xr-has-index'>longitude</span>: 1001</li></ul></div><ul class='xr-sections'><li class='xr-section-item'><div class='xr-array-wrap'><input id='section-f631d6b8-2e29-471f-878a-d359aae44d56' class='xr-array-in' type='checkbox' checked><label for='section-f631d6b8-2e29-471f-878a-d359aae44d56' title='Show/hide data repr'><svg class='icon xr-icon-database'><use xlink:href='#icon-database'></use></svg></label><div class='xr-array-preview xr-preview'><span>...</span></div><div class='xr-array-data'><pre>[924924 values with dtype=float32]</pre></div></div></li><li class='xr-section-item'><input id='section-93c6a64d-9318-498c-adb3-e78430103761' class='xr-section-summary-in' type='checkbox'  checked><label for='section-93c6a64d-9318-498c-adb3-e78430103761' class='xr-section-summary' >Coordinates: <span>(6)</span></label><div class='xr-section-inline-details'></div><div class='xr-section-details'><ul class='xr-var-list'><li class='xr-var-item'><div class='xr-var-name'><span>time</span></div><div class='xr-var-dims'>()</div><div class='xr-var-dtype'>datetime64[ns]</div><div class='xr-var-preview xr-preview'>...</div><input id='attrs-2726eb39-d964-4c38-b125-f555b1c9cbf5' class='xr-var-attrs-in' type='checkbox' ><label for='attrs-2726eb39-d964-4c38-b125-f555b1c9cbf5' title='Show/Hide attributes'><svg class='icon xr-icon-file-text2'><use xlink:href='#icon-file-text2'></use></svg></label><input id='data-632b531a-5d14-46d8-8c54-c918a743e0b4' class='xr-var-data-in' type='checkbox'><label for='data-632b531a-5d14-46d8-8c54-c918a743e0b4' title='Show/Hide data repr'><svg class='icon xr-icon-database'><use xlink:href='#icon-database'></use></svg></label><div class='xr-var-attrs'><dl class='xr-attrs'><dt><span>long_name :</span></dt><dd>initial time of forecast</dd><dt><span>standard_name :</span></dt><dd>forecast_reference_time</dd></dl></div><div class='xr-var-data'><pre>[1 values with dtype=datetime64[ns]]</pre></div></li><li class='xr-var-item'><div class='xr-var-name'><span>step</span></div><div class='xr-var-dims'>()</div><div class='xr-var-dtype'>timedelta64[ns]</div><div class='xr-var-preview xr-preview'>...</div><input id='attrs-5bfb00ea-4296-456c-9afd-4a420a5c7d00' class='xr-var-attrs-in' type='checkbox' ><label for='attrs-5bfb00ea-4296-456c-9afd-4a420a5c7d00' title='Show/Hide attributes'><svg class='icon xr-icon-file-text2'><use xlink:href='#icon-file-text2'></use></svg></label><input id='data-43de41a2-73bf-46da-951b-dab3e4881496' class='xr-var-data-in' type='checkbox'><label for='data-43de41a2-73bf-46da-951b-dab3e4881496' title='Show/Hide data repr'><svg class='icon xr-icon-database'><use xlink:href='#icon-database'></use></svg></label><div class='xr-var-attrs'><dl class='xr-attrs'><dt><span>long_name :</span></dt><dd>time since forecast_reference_time</dd><dt><span>standard_name :</span></dt><dd>forecast_period</dd></dl></div><div class='xr-var-data'><pre>[1 values with dtype=timedelta64[ns]]</pre></div></li><li class='xr-var-item'><div class='xr-var-name'><span>surface</span></div><div class='xr-var-dims'>()</div><div class='xr-var-dtype'>float64</div><div class='xr-var-preview xr-preview'>...</div><input id='attrs-0fde2bb7-021d-4c5b-87e1-efbc7123be52' class='xr-var-attrs-in' type='checkbox' ><label for='attrs-0fde2bb7-021d-4c5b-87e1-efbc7123be52' title='Show/Hide attributes'><svg class='icon xr-icon-file-text2'><use xlink:href='#icon-file-text2'></use></svg></label><input id='data-a577dfdd-f06e-43a4-b326-2283b2e5b537' class='xr-var-data-in' type='checkbox'><label for='data-a577dfdd-f06e-43a4-b326-2283b2e5b537' title='Show/Hide data repr'><svg class='icon xr-icon-database'><use xlink:href='#icon-database'></use></svg></label><div class='xr-var-attrs'><dl class='xr-attrs'><dt><span>long_name :</span></dt><dd>original GRIB coordinate for key: level(surface)</dd><dt><span>units :</span></dt><dd>1</dd></dl></div><div class='xr-var-data'><pre>[1 values with dtype=float64]</pre></div></li><li class='xr-var-item'><div class='xr-var-name'><span class='xr-has-index'>latitude</span></div><div class='xr-var-dims'>(latitude)</div><div class='xr-var-dtype'>float64</div><div class='xr-var-preview xr-preview'>-60.05 -59.95 ... 32.15 32.25</div><input id='attrs-666473f6-8758-4097-ae80-c1ae3624749f' class='xr-var-attrs-in' type='checkbox' ><label for='attrs-666473f6-8758-4097-ae80-c1ae3624749f' title='Show/Hide attributes'><svg class='icon xr-icon-file-text2'><use xlink:href='#icon-file-text2'></use></svg></label><input id='data-95709fcb-da36-45cd-8967-5216da7e92ce' class='xr-var-data-in' type='checkbox'><label for='data-95709fcb-da36-45cd-8967-5216da7e92ce' title='Show/Hide data repr'><svg class='icon xr-icon-database'><use xlink:href='#icon-database'></use></svg></label><div class='xr-var-attrs'><dl class='xr-attrs'><dt><span>units :</span></dt><dd>degrees_north</dd><dt><span>standard_name :</span></dt><dd>latitude</dd><dt><span>long_name :</span></dt><dd>latitude</dd></dl></div><div class='xr-var-data'><pre>array([-60.05, -59.95, -59.85, ...,  32.05,  32.15,  32.25])</pre></div></li><li class='xr-var-item'><div class='xr-var-name'><span class='xr-has-index'>longitude</span></div><div class='xr-var-dims'>(longitude)</div><div class='xr-var-dtype'>float64</div><div class='xr-var-preview xr-preview'>239.9 240.0 240.1 ... 339.9 339.9</div><input id='attrs-f8334bfa-f339-48e0-8bc2-bb01e650bd0b' class='xr-var-attrs-in' type='checkbox' ><label for='attrs-f8334bfa-f339-48e0-8bc2-bb01e650bd0b' title='Show/Hide attributes'><svg class='icon xr-icon-file-text2'><use xlink:href='#icon-file-text2'></use></svg></label><input id='data-faf9c59e-1178-4e92-a7b2-c15b72d35319' class='xr-var-data-in' type='checkbox'><label for='data-faf9c59e-1178-4e92-a7b2-c15b72d35319' title='Show/Hide data repr'><svg class='icon xr-icon-database'><use xlink:href='#icon-database'></use></svg></label><div class='xr-var-attrs'><dl class='xr-attrs'><dt><span>units :</span></dt><dd>degrees_east</dd><dt><span>standard_name :</span></dt><dd>longitude</dd><dt><span>long_name :</span></dt><dd>longitude</dd></dl></div><div class='xr-var-data'><pre>array([239.95, 240.05, 240.15, ..., 339.75, 339.85, 339.95])</pre></div></li><li class='xr-var-item'><div class='xr-var-name'><span>valid_time</span></div><div class='xr-var-dims'>()</div><div class='xr-var-dtype'>datetime64[ns]</div><div class='xr-var-preview xr-preview'>...</div><input id='attrs-dcb611d1-ebb1-4488-8f93-fd62354a2a03' class='xr-var-attrs-in' type='checkbox' ><label for='attrs-dcb611d1-ebb1-4488-8f93-fd62354a2a03' title='Show/Hide attributes'><svg class='icon xr-icon-file-text2'><use xlink:href='#icon-file-text2'></use></svg></label><input id='data-629d59c0-5c2e-4022-b09a-3d835847e6d3' class='xr-var-data-in' type='checkbox'><label for='data-629d59c0-5c2e-4022-b09a-3d835847e6d3' title='Show/Hide data repr'><svg class='icon xr-icon-database'><use xlink:href='#icon-database'></use></svg></label><div class='xr-var-attrs'><dl class='xr-attrs'><dt><span>standard_name :</span></dt><dd>time</dd><dt><span>long_name :</span></dt><dd>time</dd></dl></div><div class='xr-var-data'><pre>[1 values with dtype=datetime64[ns]]</pre></div></li></ul></div></li><li class='xr-section-item'><input id='section-d966e64a-917d-49a5-9a6a-7947783e6fc3' class='xr-section-summary-in' type='checkbox'  ><label for='section-d966e64a-917d-49a5-9a6a-7947783e6fc3' class='xr-section-summary' >Indexes: <span>(2)</span></label><div class='xr-section-inline-details'></div><div class='xr-section-details'><ul class='xr-var-list'><li class='xr-var-item'><div class='xr-index-name'><div>latitude</div></div><div class='xr-index-preview'>PandasIndex</div><div></div><input id='index-b263a622-5cd6-4d02-989b-04894c94e552' class='xr-index-data-in' type='checkbox'/><label for='index-b263a622-5cd6-4d02-989b-04894c94e552' title='Show/Hide index repr'><svg class='icon xr-icon-database'><use xlink:href='#icon-database'></use></svg></label><div class='xr-index-data'><pre>PandasIndex(Float64Index([             -60.05, -59.949999999999996, -59.849999999999994,\n",
       "               -59.74999999999999,  -59.64999999999999,  -59.54999999999999,\n",
       "               -59.44999999999999,  -59.34999999999999, -59.249999999999986,\n",
       "              -59.149999999999984,\n",
       "              ...\n",
       "               31.350000000000765,  31.450000000000767,  31.550000000000768,\n",
       "                31.65000000000077,   31.75000000000077,  31.850000000000772,\n",
       "               31.950000000000774,   32.05000000000077,   32.15000000000077,\n",
       "                            32.25],\n",
       "             dtype=&#x27;float64&#x27;, name=&#x27;latitude&#x27;, length=924))</pre></div></li><li class='xr-var-item'><div class='xr-index-name'><div>longitude</div></div><div class='xr-index-preview'>PandasIndex</div><div></div><input id='index-540f24cf-52bd-4e09-97b6-2704f825ef52' class='xr-index-data-in' type='checkbox'/><label for='index-540f24cf-52bd-4e09-97b6-2704f825ef52' title='Show/Hide index repr'><svg class='icon xr-icon-database'><use xlink:href='#icon-database'></use></svg></label><div class='xr-index-data'><pre>PandasIndex(Float64Index([            239.95, 240.04999999999998, 240.14999999999998,\n",
       "              240.24999999999997, 240.34999999999997, 240.44999999999996,\n",
       "              240.54999999999995, 240.64999999999995, 240.74999999999994,\n",
       "              240.84999999999994,\n",
       "              ...\n",
       "                339.050000000018,   339.150000000018,   339.250000000018,\n",
       "              339.35000000001804, 339.45000000001806,  339.5500000000181,\n",
       "               339.6500000000181, 339.75000000001813, 339.85000000001816,\n",
       "                          339.95],\n",
       "             dtype=&#x27;float64&#x27;, name=&#x27;longitude&#x27;, length=1001))</pre></div></li></ul></div></li><li class='xr-section-item'><input id='section-dbcd3ccd-bc51-493e-bb96-0d3b3838a8a4' class='xr-section-summary-in' type='checkbox'  ><label for='section-dbcd3ccd-bc51-493e-bb96-0d3b3838a8a4' class='xr-section-summary' >Attributes: <span>(29)</span></label><div class='xr-section-inline-details'></div><div class='xr-section-details'><dl class='xr-attrs'><dt><span>GRIB_paramId :</span></dt><dd>260138</dd><dt><span>GRIB_dataType :</span></dt><dd>an</dd><dt><span>GRIB_numberOfPoints :</span></dt><dd>924924</dd><dt><span>GRIB_typeOfLevel :</span></dt><dd>surface</dd><dt><span>GRIB_stepUnits :</span></dt><dd>1</dd><dt><span>GRIB_stepType :</span></dt><dd>instant</dd><dt><span>GRIB_gridType :</span></dt><dd>regular_ll</dd><dt><span>GRIB_NV :</span></dt><dd>0</dd><dt><span>GRIB_Nx :</span></dt><dd>1001</dd><dt><span>GRIB_Ny :</span></dt><dd>924</dd><dt><span>GRIB_cfName :</span></dt><dd>unknown</dd><dt><span>GRIB_cfVarName :</span></dt><dd>prec</dd><dt><span>GRIB_gridDefinitionDescription :</span></dt><dd>Latitude/longitude. Also called equidistant cylindrical, or Plate Carree</dd><dt><span>GRIB_iDirectionIncrementInDegrees :</span></dt><dd>0.1</dd><dt><span>GRIB_iScansNegatively :</span></dt><dd>0</dd><dt><span>GRIB_jDirectionIncrementInDegrees :</span></dt><dd>0.1</dd><dt><span>GRIB_jPointsAreConsecutive :</span></dt><dd>0</dd><dt><span>GRIB_jScansPositively :</span></dt><dd>1</dd><dt><span>GRIB_latitudeOfFirstGridPointInDegrees :</span></dt><dd>-60.05</dd><dt><span>GRIB_latitudeOfLastGridPointInDegrees :</span></dt><dd>32.25</dd><dt><span>GRIB_longitudeOfFirstGridPointInDegrees :</span></dt><dd>239.95</dd><dt><span>GRIB_longitudeOfLastGridPointInDegrees :</span></dt><dd>339.95</dd><dt><span>GRIB_missingValue :</span></dt><dd>3.4028234663852886e+38</dd><dt><span>GRIB_name :</span></dt><dd>Precipitation</dd><dt><span>GRIB_shortName :</span></dt><dd>prec</dd><dt><span>GRIB_units :</span></dt><dd>kg m**-2</dd><dt><span>long_name :</span></dt><dd>Precipitation</dd><dt><span>units :</span></dt><dd>kg m**-2</dd><dt><span>standard_name :</span></dt><dd>unknown</dd></dl></div></li></ul></div></div>"
      ],
      "text/plain": [
       "<xarray.DataArray 'prec' (latitude: 924, longitude: 1001)>\n",
       "[924924 values with dtype=float32]\n",
       "Coordinates:\n",
       "    time        datetime64[ns] ...\n",
       "    step        timedelta64[ns] ...\n",
       "    surface     float64 ...\n",
       "  * latitude    (latitude) float64 -60.05 -59.95 -59.85 ... 32.05 32.15 32.25\n",
       "  * longitude   (longitude) float64 239.9 240.0 240.1 ... 339.8 339.9 339.9\n",
       "    valid_time  datetime64[ns] ...\n",
       "Attributes: (12/29)\n",
       "    GRIB_paramId:                             260138\n",
       "    GRIB_dataType:                            an\n",
       "    GRIB_numberOfPoints:                      924924\n",
       "    GRIB_typeOfLevel:                         surface\n",
       "    GRIB_stepUnits:                           1\n",
       "    GRIB_stepType:                            instant\n",
       "    ...                                       ...\n",
       "    GRIB_name:                                Precipitation\n",
       "    GRIB_shortName:                           prec\n",
       "    GRIB_units:                               kg m**-2\n",
       "    long_name:                                Precipitation\n",
       "    units:                                    kg m**-2\n",
       "    standard_name:                            unknown"
      ]
     },
     "execution_count": 29,
     "metadata": {},
     "output_type": "execute_result"
    }
   ],
   "source": [
    "ds['prec']"
   ]
  },
  {
   "cell_type": "code",
   "execution_count": null,
   "metadata": {},
   "outputs": [],
   "source": []
  },
  {
   "cell_type": "code",
   "execution_count": 60,
   "metadata": {},
   "outputs": [],
   "source": [
    "from pathlib import Path\n",
    "p = Path('.')"
   ]
  },
  {
   "cell_type": "code",
   "execution_count": 62,
   "metadata": {},
   "outputs": [
    {
     "data": {
      "text/plain": [
       "False"
      ]
     },
     "execution_count": 62,
     "metadata": {},
     "output_type": "execute_result"
    }
   ],
   "source": [
    "p.is_absolute()"
   ]
  },
  {
   "cell_type": "code",
   "execution_count": 63,
   "metadata": {},
   "outputs": [
    {
     "name": "stdout",
     "output_type": "stream",
     "text": [
      "\u001b[0;31mSignature:\u001b[0m \u001b[0mp\u001b[0m\u001b[0;34m.\u001b[0m\u001b[0mmkdir\u001b[0m\u001b[0;34m(\u001b[0m\u001b[0mmode\u001b[0m\u001b[0;34m=\u001b[0m\u001b[0;36m511\u001b[0m\u001b[0;34m,\u001b[0m \u001b[0mparents\u001b[0m\u001b[0;34m=\u001b[0m\u001b[0;32mFalse\u001b[0m\u001b[0;34m,\u001b[0m \u001b[0mexist_ok\u001b[0m\u001b[0;34m=\u001b[0m\u001b[0;32mFalse\u001b[0m\u001b[0;34m)\u001b[0m\u001b[0;34m\u001b[0m\u001b[0;34m\u001b[0m\u001b[0m\n",
      "\u001b[0;31mDocstring:\u001b[0m Create a new directory at this given path.\n",
      "\u001b[0;31mFile:\u001b[0m      ~/miniconda3/envs/geopandas38/lib/python3.8/pathlib.py\n",
      "\u001b[0;31mType:\u001b[0m      method"
     ]
    }
   ],
   "source": [
    "p.mkdir?"
   ]
  },
  {
   "cell_type": "code",
   "execution_count": 31,
   "metadata": {},
   "outputs": [],
   "source": [
    "merge = MERGEFile('http://ftp.cptec.inpe.br/modelos/tempo/MERGE/GPM/DAILY/2023/02/MERGE_CPTEC_20230203.grib2')"
   ]
  },
  {
   "cell_type": "code",
   "execution_count": 32,
   "metadata": {},
   "outputs": [
    {
     "data": {
      "text/plain": [
       "{'Date': 'Tue, 28 Feb 2023 13:18:07 GMT',\n",
       " 'Server': 'Apache',\n",
       " 'Last-Modified': 'Tue, 14 Feb 2023 18:43:28 GMT',\n",
       " 'ETag': '\"50ba5-5f4ad56e63400\"',\n",
       " 'Accept-Ranges': 'bytes',\n",
       " 'Content-Length': '330661',\n",
       " 'Access-Control-Allow-Origin': '*',\n",
       " 'Keep-Alive': 'timeout=5, max=100',\n",
       " 'Connection': 'Keep-Alive'}"
      ]
     },
     "execution_count": 32,
     "metadata": {},
     "output_type": "execute_result"
    }
   ],
   "source": [
    "merge.header"
   ]
  },
  {
   "cell_type": "code",
   "execution_count": 33,
   "metadata": {},
   "outputs": [
    {
     "data": {
      "text/plain": [
       "{'Server': 'Apache',\n",
       " 'Last-Modified': datetime.datetime(2023, 2, 14, 18, 43, 28, tzinfo=tzutc()),\n",
       " 'ETag': '\"50ba5-5f4ad56e63400\"',\n",
       " 'Accept-Ranges': 'bytes',\n",
       " 'Content-Length': '330661',\n",
       " 'Access-Control-Allow-Origin': '*',\n",
       " 'Keep-Alive': 'timeout=5, max=100',\n",
       " 'Connection': 'Keep-Alive',\n",
       " 'Request_time': datetime.datetime(2023, 2, 28, 13, 18, 7, tzinfo=tzutc()),\n",
       " 'model': 'MERGE',\n",
       " 'provider': 'CPTEC',\n",
       " 'date': datetime.datetime(2023, 2, 3, 0, 0),\n",
       " 'ext': 'grib2'}"
      ]
     },
     "execution_count": 33,
     "metadata": {},
     "output_type": "execute_result"
    }
   ],
   "source": [
    "merge.info"
   ]
  },
  {
   "cell_type": "code",
   "execution_count": 77,
   "metadata": {},
   "outputs": [
    {
     "data": {
      "text/plain": [
       "<__main__.MERGEFile at 0x1185d4160>"
      ]
     },
     "execution_count": 77,
     "metadata": {},
     "output_type": "execute_result"
    }
   ],
   "source": [
    "class HTTPFile:\n",
    "    def __init__(self, url: str) -> None:\n",
    "        if url.endswith(\"/\"):\n",
    "            raise Exception(f\"{url} is not a valid file\")\n",
    "\n",
    "        self.url = url\n",
    "        \n",
    "class MERGEFile(HTTPFile):\n",
    "    def __init__(self, url: str) -> None:\n",
    "        super().__init__(url)\n",
    "\n",
    "MERGEFile('teste')"
   ]
  },
  {
   "cell_type": "code",
   "execution_count": null,
   "metadata": {},
   "outputs": [],
   "source": []
  },
  {
   "cell_type": "code",
   "execution_count": null,
   "metadata": {},
   "outputs": [],
   "source": []
  },
  {
   "cell_type": "code",
   "execution_count": 75,
   "metadata": {},
   "outputs": [
    {
     "name": "stdout",
     "output_type": "stream",
     "text": [
      "1\n",
      "2\n",
      "3\n"
     ]
    }
   ],
   "source": [
    "class Parent:\n",
    "    def __init__(self, x, y):\n",
    "        self.x = x\n",
    "        self.y = y\n",
    "\n",
    "class Child(Parent):\n",
    "    def __init__(self, x, y, z):\n",
    "        super().__init__(x, y)  # Call the __init__() method of the parent class\n",
    "        self.z = z\n",
    "\n",
    "# Create an instance of the Child class and print its attributes\n",
    "c = Child(1, 2, 3)\n",
    "print(c.x)\n",
    "print(c.y)\n",
    "print(c.z)\n"
   ]
  },
  {
   "cell_type": "code",
   "execution_count": null,
   "metadata": {},
   "outputs": [],
   "source": []
  },
  {
   "cell_type": "code",
   "execution_count": 48,
   "metadata": {},
   "outputs": [
    {
     "data": {
      "text/plain": [
       "[datetime.datetime(2023, 2, 1, 0, 0),\n",
       " datetime.datetime(2023, 2, 2, 0, 0),\n",
       " datetime.datetime(2023, 2, 3, 0, 0)]"
      ]
     },
     "execution_count": 48,
     "metadata": {},
     "output_type": "execute_result"
    }
   ],
   "source": [
    "inpe.dates_by_month(year='2023', month='02')[:3]"
   ]
  },
  {
   "cell_type": "code",
   "execution_count": 54,
   "metadata": {},
   "outputs": [],
   "source": [
    "from dateutil.parser import parse\n",
    "dt = parse('20230201')"
   ]
  },
  {
   "cell_type": "code",
   "execution_count": 60,
   "metadata": {},
   "outputs": [
    {
     "data": {
      "text/plain": [
       "'2'"
      ]
     },
     "execution_count": 60,
     "metadata": {},
     "output_type": "execute_result"
    }
   ],
   "source": [
    "str(dt.month)"
   ]
  },
  {
   "cell_type": "code",
   "execution_count": 53,
   "metadata": {},
   "outputs": [
    {
     "data": {
      "text/plain": [
       "'http://ftp.cptec.inpe.br/modelos/tempo/MERGE/GPM/DAILY/2001'"
      ]
     },
     "execution_count": 53,
     "metadata": {},
     "output_type": "execute_result"
    }
   ],
   "source": [
    "from urllib.parse import urljoin\n",
    "urljoin(fs.url, '2001')"
   ]
  },
  {
   "cell_type": "code",
   "execution_count": 61,
   "metadata": {},
   "outputs": [
    {
     "data": {
      "text/plain": [
       "'20230201'"
      ]
     },
     "execution_count": 61,
     "metadata": {},
     "output_type": "execute_result"
    }
   ],
   "source": [
    "dt.strftime('%Y%m%d')"
   ]
  },
  {
   "cell_type": "code",
   "execution_count": 77,
   "metadata": {},
   "outputs": [
    {
     "data": {
      "text/plain": [
       "bs4.element.Tag"
      ]
     },
     "execution_count": 77,
     "metadata": {},
     "output_type": "execute_result"
    }
   ],
   "source": [
    "type(inpe.fs.links[0])"
   ]
  },
  {
   "cell_type": "code",
   "execution_count": 68,
   "metadata": {},
   "outputs": [
    {
     "data": {
      "text/plain": [
       "['01', '02', '03', '04', '05', '06', '07', '08', '09', '10', '11', '12']"
      ]
     },
     "execution_count": 68,
     "metadata": {},
     "output_type": "execute_result"
    }
   ],
   "source": [
    "inpe.get_months('2001')"
   ]
  },
  {
   "cell_type": "code",
   "execution_count": 63,
   "metadata": {},
   "outputs": [
    {
     "data": {
      "text/plain": [
       "[datetime.datetime(2001, 1, 1, 0, 0),\n",
       " datetime.datetime(2001, 1, 2, 0, 0),\n",
       " datetime.datetime(2001, 1, 3, 0, 0)]"
      ]
     },
     "execution_count": 63,
     "metadata": {},
     "output_type": "execute_result"
    }
   ],
   "source": [
    "inpe.dates_by_month(year='2001', month='1')[:3]"
   ]
  },
  {
   "cell_type": "code",
   "execution_count": 70,
   "metadata": {},
   "outputs": [
    {
     "data": {
      "text/plain": [
       "HTTP File at: http://ftp.cptec.inpe.br/modelos/tempo/MERGE/GPM/DAILY/2023/02/MERGE_CPTEC_20230201.grib2"
      ]
     },
     "execution_count": 70,
     "metadata": {},
     "output_type": "execute_result"
    }
   ],
   "source": [
    "inpe.get_file('20230201')"
   ]
  },
  {
   "cell_type": "code",
   "execution_count": 65,
   "metadata": {},
   "outputs": [
    {
     "ename": "NameError",
     "evalue": "name 'tag' is not defined",
     "output_type": "error",
     "traceback": [
      "\u001b[0;31m---------------------------------------------------------------------------\u001b[0m",
      "\u001b[0;31mNameError\u001b[0m                                 Traceback (most recent call last)",
      "Cell \u001b[0;32mIn[65], line 1\u001b[0m\n\u001b[0;32m----> 1\u001b[0m tag\n",
      "\u001b[0;31mNameError\u001b[0m: name 'tag' is not defined"
     ]
    }
   ],
   "source": [
    "tag"
   ]
  },
  {
   "cell_type": "code",
   "execution_count": null,
   "metadata": {},
   "outputs": [],
   "source": []
  },
  {
   "cell_type": "code",
   "execution_count": null,
   "metadata": {},
   "outputs": [],
   "source": []
  },
  {
   "cell_type": "code",
   "execution_count": null,
   "metadata": {},
   "outputs": [],
   "source": []
  },
  {
   "cell_type": "code",
   "execution_count": null,
   "metadata": {},
   "outputs": [],
   "source": []
  },
  {
   "cell_type": "code",
   "execution_count": null,
   "metadata": {},
   "outputs": [],
   "source": []
  },
  {
   "cell_type": "code",
   "execution_count": null,
   "metadata": {},
   "outputs": [],
   "source": []
  },
  {
   "cell_type": "code",
   "execution_count": 15,
   "metadata": {},
   "outputs": [],
   "source": [
    "url = 'http://ftp.cptec.inpe.br/modelos/tempo/MERGE/GPM/DAILY/'\n",
    "response = requests.get(url)\n",
    "html_content = response.content.decode('utf-8')\n"
   ]
  },
  {
   "cell_type": "code",
   "execution_count": 16,
   "metadata": {},
   "outputs": [],
   "source": [
    "response.raise_for_status()"
   ]
  },
  {
   "cell_type": "code",
   "execution_count": 9,
   "metadata": {},
   "outputs": [],
   "source": [
    "soup = BeautifulSoup(html_content, 'html.parser')\n",
    "links = soup.find_all('a')"
   ]
  },
  {
   "cell_type": "code",
   "execution_count": 28,
   "metadata": {},
   "outputs": [],
   "source": [
    "l = links[10]"
   ]
  },
  {
   "cell_type": "code",
   "execution_count": 73,
   "metadata": {},
   "outputs": [
    {
     "data": {
      "text/plain": [
       "'20000602'"
      ]
     },
     "execution_count": 73,
     "metadata": {},
     "output_type": "execute_result"
    }
   ],
   "source": [
    "inpe.first_date"
   ]
  },
  {
   "cell_type": "code",
   "execution_count": null,
   "metadata": {},
   "outputs": [],
   "source": []
  },
  {
   "cell_type": "code",
   "execution_count": null,
   "metadata": {},
   "outputs": [],
   "source": []
  },
  {
   "cell_type": "code",
   "execution_count": 30,
   "metadata": {},
   "outputs": [
    {
     "data": {
      "text/plain": [
       "'2005/'"
      ]
     },
     "execution_count": 30,
     "metadata": {},
     "output_type": "execute_result"
    }
   ],
   "source": [
    "l.get('href')"
   ]
  },
  {
   "cell_type": "code",
   "execution_count": 10,
   "metadata": {},
   "outputs": [
    {
     "data": {
      "text/plain": [
       "[<a href=\"?C=N;O=D\">Name</a>,\n",
       " <a href=\"?C=M;O=A\">Last modified</a>,\n",
       " <a href=\"?C=S;O=A\">Size</a>,\n",
       " <a href=\"?C=D;O=A\">Description</a>,\n",
       " <a href=\"/modelos/tempo/MERGE/GPM/\">Parent Directory</a>,\n",
       " <a href=\"2000/\">2000/</a>,\n",
       " <a href=\"2001/\">2001/</a>,\n",
       " <a href=\"2002/\">2002/</a>,\n",
       " <a href=\"2003/\">2003/</a>,\n",
       " <a href=\"2004/\">2004/</a>,\n",
       " <a href=\"2005/\">2005/</a>,\n",
       " <a href=\"2006/\">2006/</a>,\n",
       " <a href=\"2007/\">2007/</a>,\n",
       " <a href=\"2008/\">2008/</a>,\n",
       " <a href=\"2009/\">2009/</a>,\n",
       " <a href=\"2010/\">2010/</a>,\n",
       " <a href=\"2011/\">2011/</a>,\n",
       " <a href=\"2012/\">2012/</a>,\n",
       " <a href=\"2013/\">2013/</a>,\n",
       " <a href=\"2014/\">2014/</a>,\n",
       " <a href=\"2015/\">2015/</a>,\n",
       " <a href=\"2016/\">2016/</a>,\n",
       " <a href=\"2017/\">2017/</a>,\n",
       " <a href=\"2018/\">2018/</a>,\n",
       " <a href=\"2019/\">2019/</a>,\n",
       " <a href=\"2020/\">2020/</a>,\n",
       " <a href=\"2021/\">2021/</a>,\n",
       " <a href=\"2022/\">2022/</a>,\n",
       " <a href=\"2023/\">2023/</a>,\n",
       " <a href=\"MERGE_CPTEC_2000_2022.ctl\">MERGE_CPTEC_2000_2022.ctl</a>,\n",
       " <a href=\"MERGE_CPTEC_2000_2022.idx\">MERGE_CPTEC_2000_2022.idx</a>,\n",
       " <a href=\"MERGE_CPTEC_2023.ctl\">MERGE_CPTEC_2023.ctl</a>,\n",
       " <a href=\"MERGE_CPTEC_2023.idx\">MERGE_CPTEC_2023.idx</a>,\n",
       " <a href=\"gera_Normais.ksh\">gera_Normais.ksh</a>]"
      ]
     },
     "execution_count": 10,
     "metadata": {},
     "output_type": "execute_result"
    }
   ],
   "source": [
    "links"
   ]
  },
  {
   "cell_type": "code",
   "execution_count": 19,
   "metadata": {},
   "outputs": [
    {
     "data": {
      "text/plain": [
       "<module 'dirhunt' from '/Users/cordmaur/miniconda3/envs/geopandas38/lib/python3.8/site-packages/dirhunt/__init__.py'>"
      ]
     },
     "execution_count": 19,
     "metadata": {},
     "output_type": "execute_result"
    }
   ],
   "source": [
    "from dirhunt.utils "
   ]
  },
  {
   "cell_type": "code",
   "execution_count": 14,
   "metadata": {},
   "outputs": [],
   "source": [
    "import requests\n",
    "from IPython.display import HTML"
   ]
  },
  {
   "cell_type": "code",
   "execution_count": 9,
   "metadata": {},
   "outputs": [],
   "source": [
    "response = requests.get(ftp_url)"
   ]
  },
  {
   "cell_type": "code",
   "execution_count": 12,
   "metadata": {},
   "outputs": [],
   "source": [
    "html_content = response.content.decode('utf-8')"
   ]
  },
  {
   "cell_type": "code",
   "execution_count": 15,
   "metadata": {},
   "outputs": [
    {
     "data": {
      "text/html": [
       "<!DOCTYPE HTML PUBLIC \"-//W3C//DTD HTML 3.2 Final//EN\">\n",
       "<html>\n",
       " <head>\n",
       "  <title>Index of /modelos/tempo/MERGE/GPM/DAILY</title>\n",
       " </head>\n",
       " <body>\n",
       "<h1>Index of /modelos/tempo/MERGE/GPM/DAILY</h1>\n",
       "  <table>\n",
       "   <tr><th valign=\"top\"><img src=\"/icons/blank.gif\" alt=\"[ICO]\"></th><th><a href=\"?C=N;O=D\">Name</a></th><th><a href=\"?C=M;O=A\">Last modified</a></th><th><a href=\"?C=S;O=A\">Size</a></th><th><a href=\"?C=D;O=A\">Description</a></th></tr>\n",
       "   <tr><th colspan=\"5\"><hr></th></tr>\n",
       "<tr><td valign=\"top\"><img src=\"/icons/back.gif\" alt=\"[PARENTDIR]\"></td><td><a href=\"/modelos/tempo/MERGE/GPM/\">Parent Directory</a></td><td>&nbsp;</td><td align=\"right\">  - </td><td>&nbsp;</td></tr>\n",
       "<tr><td valign=\"top\"><img src=\"/icons/folder.gif\" alt=\"[DIR]\"></td><td><a href=\"2000/\">2000/</a></td><td align=\"right\">2020-08-04 10:10  </td><td align=\"right\">  - </td><td>&nbsp;</td></tr>\n",
       "<tr><td valign=\"top\"><img src=\"/icons/folder.gif\" alt=\"[DIR]\"></td><td><a href=\"2001/\">2001/</a></td><td align=\"right\">2020-08-04 10:10  </td><td align=\"right\">  - </td><td>&nbsp;</td></tr>\n",
       "<tr><td valign=\"top\"><img src=\"/icons/folder.gif\" alt=\"[DIR]\"></td><td><a href=\"2002/\">2002/</a></td><td align=\"right\">2020-08-04 10:10  </td><td align=\"right\">  - </td><td>&nbsp;</td></tr>\n",
       "<tr><td valign=\"top\"><img src=\"/icons/folder.gif\" alt=\"[DIR]\"></td><td><a href=\"2003/\">2003/</a></td><td align=\"right\">2020-08-04 10:10  </td><td align=\"right\">  - </td><td>&nbsp;</td></tr>\n",
       "<tr><td valign=\"top\"><img src=\"/icons/folder.gif\" alt=\"[DIR]\"></td><td><a href=\"2004/\">2004/</a></td><td align=\"right\">2020-08-04 10:10  </td><td align=\"right\">  - </td><td>&nbsp;</td></tr>\n",
       "<tr><td valign=\"top\"><img src=\"/icons/folder.gif\" alt=\"[DIR]\"></td><td><a href=\"2005/\">2005/</a></td><td align=\"right\">2020-08-04 10:10  </td><td align=\"right\">  - </td><td>&nbsp;</td></tr>\n",
       "<tr><td valign=\"top\"><img src=\"/icons/folder.gif\" alt=\"[DIR]\"></td><td><a href=\"2006/\">2006/</a></td><td align=\"right\">2020-08-04 10:10  </td><td align=\"right\">  - </td><td>&nbsp;</td></tr>\n",
       "<tr><td valign=\"top\"><img src=\"/icons/folder.gif\" alt=\"[DIR]\"></td><td><a href=\"2007/\">2007/</a></td><td align=\"right\">2020-08-04 10:10  </td><td align=\"right\">  - </td><td>&nbsp;</td></tr>\n",
       "<tr><td valign=\"top\"><img src=\"/icons/folder.gif\" alt=\"[DIR]\"></td><td><a href=\"2008/\">2008/</a></td><td align=\"right\">2020-08-04 10:10  </td><td align=\"right\">  - </td><td>&nbsp;</td></tr>\n",
       "<tr><td valign=\"top\"><img src=\"/icons/folder.gif\" alt=\"[DIR]\"></td><td><a href=\"2009/\">2009/</a></td><td align=\"right\">2020-08-04 10:10  </td><td align=\"right\">  - </td><td>&nbsp;</td></tr>\n",
       "<tr><td valign=\"top\"><img src=\"/icons/folder.gif\" alt=\"[DIR]\"></td><td><a href=\"2010/\">2010/</a></td><td align=\"right\">2020-08-04 10:10  </td><td align=\"right\">  - </td><td>&nbsp;</td></tr>\n",
       "<tr><td valign=\"top\"><img src=\"/icons/folder.gif\" alt=\"[DIR]\"></td><td><a href=\"2011/\">2011/</a></td><td align=\"right\">2020-08-04 10:10  </td><td align=\"right\">  - </td><td>&nbsp;</td></tr>\n",
       "<tr><td valign=\"top\"><img src=\"/icons/folder.gif\" alt=\"[DIR]\"></td><td><a href=\"2012/\">2012/</a></td><td align=\"right\">2020-08-04 10:10  </td><td align=\"right\">  - </td><td>&nbsp;</td></tr>\n",
       "<tr><td valign=\"top\"><img src=\"/icons/folder.gif\" alt=\"[DIR]\"></td><td><a href=\"2013/\">2013/</a></td><td align=\"right\">2020-08-04 10:10  </td><td align=\"right\">  - </td><td>&nbsp;</td></tr>\n",
       "<tr><td valign=\"top\"><img src=\"/icons/folder.gif\" alt=\"[DIR]\"></td><td><a href=\"2014/\">2014/</a></td><td align=\"right\">2020-08-04 10:10  </td><td align=\"right\">  - </td><td>&nbsp;</td></tr>\n",
       "<tr><td valign=\"top\"><img src=\"/icons/folder.gif\" alt=\"[DIR]\"></td><td><a href=\"2015/\">2015/</a></td><td align=\"right\">2020-08-04 10:10  </td><td align=\"right\">  - </td><td>&nbsp;</td></tr>\n",
       "<tr><td valign=\"top\"><img src=\"/icons/folder.gif\" alt=\"[DIR]\"></td><td><a href=\"2016/\">2016/</a></td><td align=\"right\">2020-08-04 10:10  </td><td align=\"right\">  - </td><td>&nbsp;</td></tr>\n",
       "<tr><td valign=\"top\"><img src=\"/icons/folder.gif\" alt=\"[DIR]\"></td><td><a href=\"2017/\">2017/</a></td><td align=\"right\">2020-08-04 10:10  </td><td align=\"right\">  - </td><td>&nbsp;</td></tr>\n",
       "<tr><td valign=\"top\"><img src=\"/icons/folder.gif\" alt=\"[DIR]\"></td><td><a href=\"2018/\">2018/</a></td><td align=\"right\">2020-08-04 10:10  </td><td align=\"right\">  - </td><td>&nbsp;</td></tr>\n",
       "<tr><td valign=\"top\"><img src=\"/icons/folder.gif\" alt=\"[DIR]\"></td><td><a href=\"2019/\">2019/</a></td><td align=\"right\">2020-08-04 10:10  </td><td align=\"right\">  - </td><td>&nbsp;</td></tr>\n",
       "<tr><td valign=\"top\"><img src=\"/icons/folder.gif\" alt=\"[DIR]\"></td><td><a href=\"2020/\">2020/</a></td><td align=\"right\">2020-12-03 00:46  </td><td align=\"right\">  - </td><td>&nbsp;</td></tr>\n",
       "<tr><td valign=\"top\"><img src=\"/icons/folder.gif\" alt=\"[DIR]\"></td><td><a href=\"2021/\">2021/</a></td><td align=\"right\">2021-12-01 14:55  </td><td align=\"right\">  - </td><td>&nbsp;</td></tr>\n",
       "<tr><td valign=\"top\"><img src=\"/icons/folder.gif\" alt=\"[DIR]\"></td><td><a href=\"2022/\">2022/</a></td><td align=\"right\">2023-01-02 09:21  </td><td align=\"right\">  - </td><td>&nbsp;</td></tr>\n",
       "<tr><td valign=\"top\"><img src=\"/icons/folder.gif\" alt=\"[DIR]\"></td><td><a href=\"2023/\">2023/</a></td><td align=\"right\">2023-02-01 13:25  </td><td align=\"right\">  - </td><td>&nbsp;</td></tr>\n",
       "<tr><td valign=\"top\"><img src=\"/icons/unknown.gif\" alt=\"[   ]\"></td><td><a href=\"MERGE_CPTEC_2000_2022.ctl\">MERGE_CPTEC_2000_2022.ctl</a></td><td align=\"right\">2023-01-18 12:48  </td><td align=\"right\">405 </td><td>&nbsp;</td></tr>\n",
       "<tr><td valign=\"top\"><img src=\"/icons/unknown.gif\" alt=\"[   ]\"></td><td><a href=\"MERGE_CPTEC_2000_2022.idx\">MERGE_CPTEC_2000_2022.idx</a></td><td align=\"right\">2023-02-08 08:08  </td><td align=\"right\">129K</td><td>&nbsp;</td></tr>\n",
       "<tr><td valign=\"top\"><img src=\"/icons/unknown.gif\" alt=\"[   ]\"></td><td><a href=\"MERGE_CPTEC_2023.ctl\">MERGE_CPTEC_2023.ctl</a></td><td align=\"right\">2023-02-07 14:07  </td><td align=\"right\">398 </td><td>&nbsp;</td></tr>\n",
       "<tr><td valign=\"top\"><img src=\"/icons/unknown.gif\" alt=\"[   ]\"></td><td><a href=\"MERGE_CPTEC_2023.idx\">MERGE_CPTEC_2023.idx</a></td><td align=\"right\">2023-02-08 09:39  </td><td align=\"right\">1.1K</td><td>&nbsp;</td></tr>\n",
       "<tr><td valign=\"top\"><img src=\"/icons/script.gif\" alt=\"[   ]\"></td><td><a href=\"gera_Normais.ksh\">gera_Normais.ksh</a></td><td align=\"right\">2023-01-18 12:19  </td><td align=\"right\">1.4K</td><td>&nbsp;</td></tr>\n",
       "   <tr><th colspan=\"5\"><hr></th></tr>\n",
       "</table>\n",
       "</body></html>\n"
      ],
      "text/plain": [
       "<IPython.core.display.HTML object>"
      ]
     },
     "execution_count": 15,
     "metadata": {},
     "output_type": "execute_result"
    }
   ],
   "source": [
    "HTML(html_content)"
   ]
  },
  {
   "cell_type": "code",
   "execution_count": 4,
   "metadata": {},
   "outputs": [],
   "source": [
    "import ftplib"
   ]
  },
  {
   "cell_type": "code",
   "execution_count": 6,
   "metadata": {},
   "outputs": [
    {
     "ename": "gaierror",
     "evalue": "[Errno 8] nodename nor servname provided, or not known",
     "output_type": "error",
     "traceback": [
      "\u001b[0;31m---------------------------------------------------------------------------\u001b[0m",
      "\u001b[0;31mgaierror\u001b[0m                                  Traceback (most recent call last)",
      "Cell \u001b[0;32mIn[6], line 1\u001b[0m\n\u001b[0;32m----> 1\u001b[0m inpe_ftp \u001b[39m=\u001b[39m ftplib\u001b[39m.\u001b[39;49mFTP(ftp_url)\n",
      "File \u001b[0;32m~/miniconda3/envs/geopandas38/lib/python3.8/ftplib.py:119\u001b[0m, in \u001b[0;36mFTP.__init__\u001b[0;34m(self, host, user, passwd, acct, timeout, source_address)\u001b[0m\n\u001b[1;32m    117\u001b[0m \u001b[39mself\u001b[39m\u001b[39m.\u001b[39mtimeout \u001b[39m=\u001b[39m timeout\n\u001b[1;32m    118\u001b[0m \u001b[39mif\u001b[39;00m host:\n\u001b[0;32m--> 119\u001b[0m     \u001b[39mself\u001b[39;49m\u001b[39m.\u001b[39;49mconnect(host)\n\u001b[1;32m    120\u001b[0m     \u001b[39mif\u001b[39;00m user:\n\u001b[1;32m    121\u001b[0m         \u001b[39mself\u001b[39m\u001b[39m.\u001b[39mlogin(user, passwd, acct)\n",
      "File \u001b[0;32m~/miniconda3/envs/geopandas38/lib/python3.8/ftplib.py:154\u001b[0m, in \u001b[0;36mFTP.connect\u001b[0;34m(self, host, port, timeout, source_address)\u001b[0m\n\u001b[1;32m    152\u001b[0m     \u001b[39mself\u001b[39m\u001b[39m.\u001b[39msource_address \u001b[39m=\u001b[39m source_address\n\u001b[1;32m    153\u001b[0m sys\u001b[39m.\u001b[39maudit(\u001b[39m\"\u001b[39m\u001b[39mftplib.connect\u001b[39m\u001b[39m\"\u001b[39m, \u001b[39mself\u001b[39m, \u001b[39mself\u001b[39m\u001b[39m.\u001b[39mhost, \u001b[39mself\u001b[39m\u001b[39m.\u001b[39mport)\n\u001b[0;32m--> 154\u001b[0m \u001b[39mself\u001b[39m\u001b[39m.\u001b[39msock \u001b[39m=\u001b[39m socket\u001b[39m.\u001b[39;49mcreate_connection((\u001b[39mself\u001b[39;49m\u001b[39m.\u001b[39;49mhost, \u001b[39mself\u001b[39;49m\u001b[39m.\u001b[39;49mport), \u001b[39mself\u001b[39;49m\u001b[39m.\u001b[39;49mtimeout,\n\u001b[1;32m    155\u001b[0m                                      source_address\u001b[39m=\u001b[39;49m\u001b[39mself\u001b[39;49m\u001b[39m.\u001b[39;49msource_address)\n\u001b[1;32m    156\u001b[0m \u001b[39mself\u001b[39m\u001b[39m.\u001b[39maf \u001b[39m=\u001b[39m \u001b[39mself\u001b[39m\u001b[39m.\u001b[39msock\u001b[39m.\u001b[39mfamily\n\u001b[1;32m    157\u001b[0m \u001b[39mself\u001b[39m\u001b[39m.\u001b[39mfile \u001b[39m=\u001b[39m \u001b[39mself\u001b[39m\u001b[39m.\u001b[39msock\u001b[39m.\u001b[39mmakefile(\u001b[39m'\u001b[39m\u001b[39mr\u001b[39m\u001b[39m'\u001b[39m, encoding\u001b[39m=\u001b[39m\u001b[39mself\u001b[39m\u001b[39m.\u001b[39mencoding)\n",
      "File \u001b[0;32m~/miniconda3/envs/geopandas38/lib/python3.8/socket.py:787\u001b[0m, in \u001b[0;36mcreate_connection\u001b[0;34m(address, timeout, source_address)\u001b[0m\n\u001b[1;32m    785\u001b[0m host, port \u001b[39m=\u001b[39m address\n\u001b[1;32m    786\u001b[0m err \u001b[39m=\u001b[39m \u001b[39mNone\u001b[39;00m\n\u001b[0;32m--> 787\u001b[0m \u001b[39mfor\u001b[39;00m res \u001b[39min\u001b[39;00m getaddrinfo(host, port, \u001b[39m0\u001b[39;49m, SOCK_STREAM):\n\u001b[1;32m    788\u001b[0m     af, socktype, proto, canonname, sa \u001b[39m=\u001b[39m res\n\u001b[1;32m    789\u001b[0m     sock \u001b[39m=\u001b[39m \u001b[39mNone\u001b[39;00m\n",
      "File \u001b[0;32m~/miniconda3/envs/geopandas38/lib/python3.8/socket.py:918\u001b[0m, in \u001b[0;36mgetaddrinfo\u001b[0;34m(host, port, family, type, proto, flags)\u001b[0m\n\u001b[1;32m    915\u001b[0m \u001b[39m# We override this function since we want to translate the numeric family\u001b[39;00m\n\u001b[1;32m    916\u001b[0m \u001b[39m# and socket type values to enum constants.\u001b[39;00m\n\u001b[1;32m    917\u001b[0m addrlist \u001b[39m=\u001b[39m []\n\u001b[0;32m--> 918\u001b[0m \u001b[39mfor\u001b[39;00m res \u001b[39min\u001b[39;00m _socket\u001b[39m.\u001b[39;49mgetaddrinfo(host, port, family, \u001b[39mtype\u001b[39;49m, proto, flags):\n\u001b[1;32m    919\u001b[0m     af, socktype, proto, canonname, sa \u001b[39m=\u001b[39m res\n\u001b[1;32m    920\u001b[0m     addrlist\u001b[39m.\u001b[39mappend((_intenum_converter(af, AddressFamily),\n\u001b[1;32m    921\u001b[0m                      _intenum_converter(socktype, SocketKind),\n\u001b[1;32m    922\u001b[0m                      proto, canonname, sa))\n",
      "\u001b[0;31mgaierror\u001b[0m: [Errno 8] nodename nor servname provided, or not known"
     ]
    }
   ],
   "source": [
    "inpe_ftp = ftplib.FTP(ftp_url)"
   ]
  },
  {
   "cell_type": "code",
   "execution_count": 7,
   "metadata": {},
   "outputs": [
    {
     "name": "stdout",
     "output_type": "stream",
     "text": [
      "\u001b[0;31mInit signature:\u001b[0m\n",
      "\u001b[0mftplib\u001b[0m\u001b[0;34m.\u001b[0m\u001b[0mFTP\u001b[0m\u001b[0;34m(\u001b[0m\u001b[0;34m\u001b[0m\n",
      "\u001b[0;34m\u001b[0m    \u001b[0mhost\u001b[0m\u001b[0;34m=\u001b[0m\u001b[0;34m''\u001b[0m\u001b[0;34m,\u001b[0m\u001b[0;34m\u001b[0m\n",
      "\u001b[0;34m\u001b[0m    \u001b[0muser\u001b[0m\u001b[0;34m=\u001b[0m\u001b[0;34m''\u001b[0m\u001b[0;34m,\u001b[0m\u001b[0;34m\u001b[0m\n",
      "\u001b[0;34m\u001b[0m    \u001b[0mpasswd\u001b[0m\u001b[0;34m=\u001b[0m\u001b[0;34m''\u001b[0m\u001b[0;34m,\u001b[0m\u001b[0;34m\u001b[0m\n",
      "\u001b[0;34m\u001b[0m    \u001b[0macct\u001b[0m\u001b[0;34m=\u001b[0m\u001b[0;34m''\u001b[0m\u001b[0;34m,\u001b[0m\u001b[0;34m\u001b[0m\n",
      "\u001b[0;34m\u001b[0m    \u001b[0mtimeout\u001b[0m\u001b[0;34m=\u001b[0m\u001b[0;34m<\u001b[0m\u001b[0mobject\u001b[0m \u001b[0mobject\u001b[0m \u001b[0mat\u001b[0m \u001b[0;36m0x10104d220\u001b[0m\u001b[0;34m>\u001b[0m\u001b[0;34m,\u001b[0m\u001b[0;34m\u001b[0m\n",
      "\u001b[0;34m\u001b[0m    \u001b[0msource_address\u001b[0m\u001b[0;34m=\u001b[0m\u001b[0;32mNone\u001b[0m\u001b[0;34m,\u001b[0m\u001b[0;34m\u001b[0m\n",
      "\u001b[0;34m\u001b[0m\u001b[0;34m)\u001b[0m\u001b[0;34m\u001b[0m\u001b[0;34m\u001b[0m\u001b[0m\n",
      "\u001b[0;31mDocstring:\u001b[0m     \n",
      "An FTP client class.\n",
      "\n",
      "To create a connection, call the class using these arguments:\n",
      "        host, user, passwd, acct, timeout\n",
      "\n",
      "The first four arguments are all strings, and have default value ''.\n",
      "timeout must be numeric and defaults to None if not passed,\n",
      "meaning that no timeout will be set on any ftp socket(s)\n",
      "If a timeout is passed, then this is now the default timeout for all ftp\n",
      "socket operations for this instance.\n",
      "\n",
      "Then use self.connect() with optional host and port argument.\n",
      "\n",
      "To download a file, use ftp.retrlines('RETR ' + filename),\n",
      "or ftp.retrbinary() with slightly different arguments.\n",
      "To upload a file, use ftp.storlines() or ftp.storbinary(),\n",
      "which have an open file as argument (see their definitions\n",
      "below for details).\n",
      "The download/upload functions first issue appropriate TYPE\n",
      "and PORT or PASV commands.\n",
      "\u001b[0;31mFile:\u001b[0m           ~/miniconda3/envs/geopandas38/lib/python3.8/ftplib.py\n",
      "\u001b[0;31mType:\u001b[0m           type\n",
      "\u001b[0;31mSubclasses:\u001b[0m     FTP_TLS"
     ]
    }
   ],
   "source": [
    "ftplib.FTP?"
   ]
  },
  {
   "cell_type": "code",
   "execution_count": null,
   "metadata": {},
   "outputs": [],
   "source": []
  }
 ],
 "metadata": {
  "kernelspec": {
   "display_name": "geopandas38",
   "language": "python",
   "name": "python3"
  },
  "language_info": {
   "codemirror_mode": {
    "name": "ipython",
    "version": 3
   },
   "file_extension": ".py",
   "mimetype": "text/x-python",
   "name": "python",
   "nbconvert_exporter": "python",
   "pygments_lexer": "ipython3",
   "version": "3.8.15"
  },
  "orig_nbformat": 4,
  "vscode": {
   "interpreter": {
    "hash": "cffb94309a6fc3acedcb95117a1eae31226e3639dbd844010e62c95f1292ed3e"
   }
  }
 },
 "nbformat": 4,
 "nbformat_minor": 2
}
