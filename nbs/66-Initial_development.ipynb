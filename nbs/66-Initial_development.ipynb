{
 "cells": [
  {
   "attachments": {},
   "cell_type": "markdown",
   "metadata": {},
   "source": [
    "# Initial Package Install"
   ]
  },
  {
   "cell_type": "code",
   "execution_count": 1,
   "metadata": {},
   "outputs": [],
   "source": [
    "%load_ext autoreload\n",
    "%autoreload 2"
   ]
  },
  {
   "cell_type": "code",
   "execution_count": 2,
   "metadata": {},
   "outputs": [],
   "source": [
    "import raindownloader"
   ]
  },
  {
   "cell_type": "code",
   "execution_count": 3,
   "metadata": {},
   "outputs": [
    {
     "data": {
      "text/plain": [
       "<module 'raindownloader' from '/Users/cordmaur/Projects/INPERainDownloader/raindownloader/__init__.py'>"
      ]
     },
     "execution_count": 3,
     "metadata": {},
     "output_type": "execute_result"
    }
   ],
   "source": [
    "raindownloader"
   ]
  },
  {
   "cell_type": "code",
   "execution_count": 4,
   "metadata": {},
   "outputs": [
    {
     "data": {
      "text/plain": [
       "'0.1.1'"
      ]
     },
     "execution_count": 4,
     "metadata": {},
     "output_type": "execute_result"
    }
   ],
   "source": [
    "raindownloader.version"
   ]
  },
  {
   "attachments": {},
   "cell_type": "markdown",
   "metadata": {},
   "source": [
    "# testing new HTTP Filesystem"
   ]
  },
  {
   "cell_type": "code",
   "execution_count": 5,
   "metadata": {},
   "outputs": [],
   "source": [
    "from raindownloader.http_utils import HTTPFileSystem, HTTPFile, Urls, NamedOSFile"
   ]
  },
  {
   "cell_type": "code",
   "execution_count": 6,
   "metadata": {},
   "outputs": [],
   "source": [
    "http_fs = HTTPFileSystem(url=Urls.MERGE)"
   ]
  },
  {
   "cell_type": "code",
   "execution_count": 9,
   "metadata": {},
   "outputs": [
    {
     "data": {
      "text/plain": [
       "[<a abs_href=\"http://ftp.cptec.inpe.br/modelos/tempo/MERGE/GPM/DAILY/MERGE_CPTEC_2000_2022.ctl\" href=\"MERGE_CPTEC_2000_2022.ctl\">MERGE_CPTEC_2000_2022.ctl</a>,\n",
       " <a abs_href=\"http://ftp.cptec.inpe.br/modelos/tempo/MERGE/GPM/DAILY/MERGE_CPTEC_2000_2022.idx\" href=\"MERGE_CPTEC_2000_2022.idx\">MERGE_CPTEC_2000_2022.idx</a>,\n",
       " <a abs_href=\"http://ftp.cptec.inpe.br/modelos/tempo/MERGE/GPM/DAILY/MERGE_CPTEC_2023.ctl\" href=\"MERGE_CPTEC_2023.ctl\">MERGE_CPTEC_2023.ctl</a>,\n",
       " <a abs_href=\"http://ftp.cptec.inpe.br/modelos/tempo/MERGE/GPM/DAILY/MERGE_CPTEC_2023.idx\" href=\"MERGE_CPTEC_2023.idx\">MERGE_CPTEC_2023.idx</a>,\n",
       " <a abs_href=\"http://ftp.cptec.inpe.br/modelos/tempo/MERGE/GPM/DAILY/gera_Normais.ksh\" href=\"gera_Normais.ksh\">gera_Normais.ksh</a>]"
      ]
     },
     "execution_count": 9,
     "metadata": {},
     "output_type": "execute_result"
    }
   ],
   "source": [
    "http_fs.files"
   ]
  },
  {
   "cell_type": "code",
   "execution_count": 10,
   "metadata": {},
   "outputs": [
    {
     "data": {
      "text/plain": [
       "[<a abs_href=\"http://ftp.cptec.inpe.br/modelos/tempo/MERGE/GPM/DAILY/2000/\" href=\"2000/\">2000/</a>,\n",
       " <a abs_href=\"http://ftp.cptec.inpe.br/modelos/tempo/MERGE/GPM/DAILY/2001/\" href=\"2001/\">2001/</a>,\n",
       " <a abs_href=\"http://ftp.cptec.inpe.br/modelos/tempo/MERGE/GPM/DAILY/2002/\" href=\"2002/\">2002/</a>,\n",
       " <a abs_href=\"http://ftp.cptec.inpe.br/modelos/tempo/MERGE/GPM/DAILY/2003/\" href=\"2003/\">2003/</a>,\n",
       " <a abs_href=\"http://ftp.cptec.inpe.br/modelos/tempo/MERGE/GPM/DAILY/2004/\" href=\"2004/\">2004/</a>,\n",
       " <a abs_href=\"http://ftp.cptec.inpe.br/modelos/tempo/MERGE/GPM/DAILY/2005/\" href=\"2005/\">2005/</a>,\n",
       " <a abs_href=\"http://ftp.cptec.inpe.br/modelos/tempo/MERGE/GPM/DAILY/2006/\" href=\"2006/\">2006/</a>,\n",
       " <a abs_href=\"http://ftp.cptec.inpe.br/modelos/tempo/MERGE/GPM/DAILY/2007/\" href=\"2007/\">2007/</a>,\n",
       " <a abs_href=\"http://ftp.cptec.inpe.br/modelos/tempo/MERGE/GPM/DAILY/2008/\" href=\"2008/\">2008/</a>,\n",
       " <a abs_href=\"http://ftp.cptec.inpe.br/modelos/tempo/MERGE/GPM/DAILY/2009/\" href=\"2009/\">2009/</a>,\n",
       " <a abs_href=\"http://ftp.cptec.inpe.br/modelos/tempo/MERGE/GPM/DAILY/2010/\" href=\"2010/\">2010/</a>,\n",
       " <a abs_href=\"http://ftp.cptec.inpe.br/modelos/tempo/MERGE/GPM/DAILY/2011/\" href=\"2011/\">2011/</a>,\n",
       " <a abs_href=\"http://ftp.cptec.inpe.br/modelos/tempo/MERGE/GPM/DAILY/2012/\" href=\"2012/\">2012/</a>,\n",
       " <a abs_href=\"http://ftp.cptec.inpe.br/modelos/tempo/MERGE/GPM/DAILY/2013/\" href=\"2013/\">2013/</a>,\n",
       " <a abs_href=\"http://ftp.cptec.inpe.br/modelos/tempo/MERGE/GPM/DAILY/2014/\" href=\"2014/\">2014/</a>,\n",
       " <a abs_href=\"http://ftp.cptec.inpe.br/modelos/tempo/MERGE/GPM/DAILY/2015/\" href=\"2015/\">2015/</a>,\n",
       " <a abs_href=\"http://ftp.cptec.inpe.br/modelos/tempo/MERGE/GPM/DAILY/2016/\" href=\"2016/\">2016/</a>,\n",
       " <a abs_href=\"http://ftp.cptec.inpe.br/modelos/tempo/MERGE/GPM/DAILY/2017/\" href=\"2017/\">2017/</a>,\n",
       " <a abs_href=\"http://ftp.cptec.inpe.br/modelos/tempo/MERGE/GPM/DAILY/2018/\" href=\"2018/\">2018/</a>,\n",
       " <a abs_href=\"http://ftp.cptec.inpe.br/modelos/tempo/MERGE/GPM/DAILY/2019/\" href=\"2019/\">2019/</a>,\n",
       " <a abs_href=\"http://ftp.cptec.inpe.br/modelos/tempo/MERGE/GPM/DAILY/2020/\" href=\"2020/\">2020/</a>,\n",
       " <a abs_href=\"http://ftp.cptec.inpe.br/modelos/tempo/MERGE/GPM/DAILY/2021/\" href=\"2021/\">2021/</a>,\n",
       " <a abs_href=\"http://ftp.cptec.inpe.br/modelos/tempo/MERGE/GPM/DAILY/2022/\" href=\"2022/\">2022/</a>,\n",
       " <a abs_href=\"http://ftp.cptec.inpe.br/modelos/tempo/MERGE/GPM/DAILY/2023/\" href=\"2023/\">2023/</a>]"
      ]
     },
     "execution_count": 10,
     "metadata": {},
     "output_type": "execute_result"
    }
   ],
   "source": [
    "http_fs.folders"
   ]
  },
  {
   "attachments": {},
   "cell_type": "markdown",
   "metadata": {},
   "source": [
    "# OSFileSystem"
   ]
  },
  {
   "cell_type": "code",
   "execution_count": 11,
   "metadata": {},
   "outputs": [],
   "source": [
    "from raindownloader.http_utils import OSFileSystem"
   ]
  },
  {
   "cell_type": "code",
   "execution_count": 12,
   "metadata": {},
   "outputs": [],
   "source": [
    "osfs = OSFileSystem(r'../')"
   ]
  },
  {
   "cell_type": "code",
   "execution_count": 14,
   "metadata": {},
   "outputs": [
    {
     "data": {
      "text/plain": [
       "[PosixPath('../LICENSE'),\n",
       " PosixPath('../README.md'),\n",
       " PosixPath('../setup.py'),\n",
       " PosixPath('../.gitignore')]"
      ]
     },
     "execution_count": 14,
     "metadata": {},
     "output_type": "execute_result"
    }
   ],
   "source": [
    "osfs.files"
   ]
  },
  {
   "cell_type": "code",
   "execution_count": 15,
   "metadata": {},
   "outputs": [
    {
     "data": {
      "text/plain": [
       "[PosixPath('../nbs'),\n",
       " PosixPath('../tests'),\n",
       " PosixPath('../docs'),\n",
       " PosixPath('../raindownloader'),\n",
       " PosixPath('../INPERainDownloader.egg-info'),\n",
       " PosixPath('../.git')]"
      ]
     },
     "execution_count": 15,
     "metadata": {},
     "output_type": "execute_result"
    }
   ],
   "source": [
    "osfs.folders"
   ]
  },
  {
   "cell_type": "code",
   "execution_count": null,
   "metadata": {},
   "outputs": [],
   "source": []
  },
  {
   "attachments": {},
   "cell_type": "markdown",
   "metadata": {},
   "source": [
    "# Accessing an HTTP exposed Filesystem"
   ]
  },
  {
   "attachments": {},
   "cell_type": "markdown",
   "metadata": {},
   "source": [
    "An important note about the INPE \"FTP\" is that the files are available under the HTTP protocol, so we cannot use FTP here. <br>\n",
    "After some research I found out the best option to do this is to use a BeautifulSoup to parse the directory content."
   ]
  },
  {
   "cell_type": "code",
   "execution_count": 110,
   "metadata": {},
   "outputs": [],
   "source": [
    "from raindownloader.http_utils import HTTPFileSystem, HTTPFile, Urls, NamedOSFile"
   ]
  },
  {
   "cell_type": "code",
   "execution_count": 111,
   "metadata": {},
   "outputs": [
    {
     "data": {
      "text/plain": [
       "[<a abs_href=\"http://ftp.cptec.inpe.br/modelos/tempo/MERGE/GPM/DAILY/2000/\" href=\"2000/\">2000/</a>,\n",
       " <a abs_href=\"http://ftp.cptec.inpe.br/modelos/tempo/MERGE/GPM/DAILY/2001/\" href=\"2001/\">2001/</a>,\n",
       " <a abs_href=\"http://ftp.cptec.inpe.br/modelos/tempo/MERGE/GPM/DAILY/2002/\" href=\"2002/\">2002/</a>]"
      ]
     },
     "execution_count": 111,
     "metadata": {},
     "output_type": "execute_result"
    }
   ],
   "source": [
    "url = 'http://ftp.cptec.inpe.br/modelos/tempo/MERGE/GPM/DAILY/'\n",
    "fs = HTTPFileSystem(url)\n",
    "fs.links[:3]"
   ]
  },
  {
   "cell_type": "code",
   "execution_count": 8,
   "metadata": {},
   "outputs": [
    {
     "data": {
      "text/plain": [
       "[<a abs_href=\"http://ftp.cptec.inpe.br/modelos/tempo/MERGE/GPM/DAILY/MERGE_CPTEC_2000_2022.ctl\" href=\"MERGE_CPTEC_2000_2022.ctl\">MERGE_CPTEC_2000_2022.ctl</a>,\n",
       " <a abs_href=\"http://ftp.cptec.inpe.br/modelos/tempo/MERGE/GPM/DAILY/MERGE_CPTEC_2000_2022.idx\" href=\"MERGE_CPTEC_2000_2022.idx\">MERGE_CPTEC_2000_2022.idx</a>,\n",
       " <a abs_href=\"http://ftp.cptec.inpe.br/modelos/tempo/MERGE/GPM/DAILY/MERGE_CPTEC_2023.ctl\" href=\"MERGE_CPTEC_2023.ctl\">MERGE_CPTEC_2023.ctl</a>]"
      ]
     },
     "execution_count": 8,
     "metadata": {},
     "output_type": "execute_result"
    }
   ],
   "source": [
    "fs.files[:3]"
   ]
  },
  {
   "cell_type": "code",
   "execution_count": 9,
   "metadata": {},
   "outputs": [
    {
     "data": {
      "text/plain": [
       "[<a abs_href=\"http://ftp.cptec.inpe.br/modelos/tempo/MERGE/GPM/DAILY/2000/\" href=\"2000/\">2000/</a>,\n",
       " <a abs_href=\"http://ftp.cptec.inpe.br/modelos/tempo/MERGE/GPM/DAILY/2001/\" href=\"2001/\">2001/</a>,\n",
       " <a abs_href=\"http://ftp.cptec.inpe.br/modelos/tempo/MERGE/GPM/DAILY/2002/\" href=\"2002/\">2002/</a>]"
      ]
     },
     "execution_count": 9,
     "metadata": {},
     "output_type": "execute_result"
    }
   ],
   "source": [
    "fs.folders[:3]"
   ]
  },
  {
   "cell_type": "code",
   "execution_count": 10,
   "metadata": {},
   "outputs": [
    {
     "data": {
      "text/plain": [
       "'http://ftp.cptec.inpe.br/modelos/tempo/MERGE/GPM/DAILY/'"
      ]
     },
     "execution_count": 10,
     "metadata": {},
     "output_type": "execute_result"
    }
   ],
   "source": [
    "fs.url"
   ]
  },
  {
   "cell_type": "code",
   "execution_count": 11,
   "metadata": {},
   "outputs": [
    {
     "data": {
      "text/plain": [
       "[<a abs_href=\"http://ftp.cptec.inpe.br/modelos/tempo/MERGE/GPM/DAILY/2000/06/\" href=\"06/\">06/</a>,\n",
       " <a abs_href=\"http://ftp.cptec.inpe.br/modelos/tempo/MERGE/GPM/DAILY/2000/07/\" href=\"07/\">07/</a>,\n",
       " <a abs_href=\"http://ftp.cptec.inpe.br/modelos/tempo/MERGE/GPM/DAILY/2000/08/\" href=\"08/\">08/</a>,\n",
       " <a abs_href=\"http://ftp.cptec.inpe.br/modelos/tempo/MERGE/GPM/DAILY/2000/09/\" href=\"09/\">09/</a>,\n",
       " <a abs_href=\"http://ftp.cptec.inpe.br/modelos/tempo/MERGE/GPM/DAILY/2000/10/\" href=\"10/\">10/</a>,\n",
       " <a abs_href=\"http://ftp.cptec.inpe.br/modelos/tempo/MERGE/GPM/DAILY/2000/11/\" href=\"11/\">11/</a>,\n",
       " <a abs_href=\"http://ftp.cptec.inpe.br/modelos/tempo/MERGE/GPM/DAILY/2000/12/\" href=\"12/\">12/</a>]"
      ]
     },
     "execution_count": 11,
     "metadata": {},
     "output_type": "execute_result"
    }
   ],
   "source": [
    "fs.open_folder('2000/').folders"
   ]
  },
  {
   "cell_type": "code",
   "execution_count": 12,
   "metadata": {},
   "outputs": [],
   "source": [
    "httpfile = HTTPFile(fs.files[0].get('abs_href'))"
   ]
  },
  {
   "cell_type": "code",
   "execution_count": 13,
   "metadata": {},
   "outputs": [],
   "source": [
    "# httpfile.info"
   ]
  },
  {
   "attachments": {},
   "cell_type": "markdown",
   "metadata": {},
   "source": [
    "# Now parsing with INPE structure"
   ]
  },
  {
   "cell_type": "code",
   "execution_count": 14,
   "metadata": {},
   "outputs": [],
   "source": [
    "from raindownloader.http_utils import INPEHTTPFileSystem, MERGEFile"
   ]
  },
  {
   "cell_type": "code",
   "execution_count": 15,
   "metadata": {},
   "outputs": [],
   "source": [
    "inpe = INPEHTTPFileSystem(Urls.MERGE)"
   ]
  },
  {
   "cell_type": "code",
   "execution_count": 16,
   "metadata": {},
   "outputs": [
    {
     "data": {
      "text/plain": [
       "['2000', '2001', '2002']"
      ]
     },
     "execution_count": 16,
     "metadata": {},
     "output_type": "execute_result"
    }
   ],
   "source": [
    "inpe.years[:3]"
   ]
  },
  {
   "cell_type": "code",
   "execution_count": 17,
   "metadata": {},
   "outputs": [
    {
     "data": {
      "text/plain": [
       "['01', '02']"
      ]
     },
     "execution_count": 17,
     "metadata": {},
     "output_type": "execute_result"
    }
   ],
   "source": [
    "inpe.months_by_year(year='2023')"
   ]
  },
  {
   "cell_type": "code",
   "execution_count": 18,
   "metadata": {},
   "outputs": [
    {
     "data": {
      "text/plain": [
       "[<a abs_href=\"http://ftp.cptec.inpe.br/modelos/tempo/MERGE/GPM/DAILY/2023/02/MERGE_CPTEC_20230201.grib2\" href=\"MERGE_CPTEC_20230201.grib2\">MERGE_CPTEC_20230201.grib2</a>,\n",
       " <a abs_href=\"http://ftp.cptec.inpe.br/modelos/tempo/MERGE/GPM/DAILY/2023/02/MERGE_CPTEC_20230202.grib2\" href=\"MERGE_CPTEC_20230202.grib2\">MERGE_CPTEC_20230202.grib2</a>,\n",
       " <a abs_href=\"http://ftp.cptec.inpe.br/modelos/tempo/MERGE/GPM/DAILY/2023/02/MERGE_CPTEC_20230203.grib2\" href=\"MERGE_CPTEC_20230203.grib2\">MERGE_CPTEC_20230203.grib2</a>]"
      ]
     },
     "execution_count": 18,
     "metadata": {},
     "output_type": "execute_result"
    }
   ],
   "source": [
    "inpe.files_by_month(year='2023', month='02')[:3]"
   ]
  },
  {
   "cell_type": "code",
   "execution_count": 19,
   "metadata": {},
   "outputs": [
    {
     "data": {
      "text/plain": [
       "[datetime.datetime(2023, 2, 1, 0, 0),\n",
       " datetime.datetime(2023, 2, 2, 0, 0),\n",
       " datetime.datetime(2023, 2, 3, 0, 0)]"
      ]
     },
     "execution_count": 19,
     "metadata": {},
     "output_type": "execute_result"
    }
   ],
   "source": [
    "inpe.dates_by_month(year='2023', month='02')[:3]"
   ]
  },
  {
   "cell_type": "code",
   "execution_count": 20,
   "metadata": {},
   "outputs": [],
   "source": [
    "merge = inpe.get_file('20230228')"
   ]
  },
  {
   "cell_type": "code",
   "execution_count": 21,
   "metadata": {},
   "outputs": [
    {
     "data": {
      "text/plain": [
       "{'Server': 'Apache',\n",
       " 'Last-Modified': datetime.datetime(2023, 2, 28, 16, 20, 23, tzinfo=tzutc()),\n",
       " 'ETag': '\"6e0fb-5f5c4f8f8bfc0\"',\n",
       " 'Accept-Ranges': 'bytes',\n",
       " 'Content-Length': '450811',\n",
       " 'Access-Control-Allow-Origin': '*',\n",
       " 'Keep-Alive': 'timeout=5, max=100',\n",
       " 'Connection': 'Keep-Alive',\n",
       " 'Request_time': datetime.datetime(2023, 2, 28, 18, 5, 36, tzinfo=tzutc()),\n",
       " 'model': 'MERGE',\n",
       " 'provider': 'CPTEC',\n",
       " 'date': datetime.datetime(2023, 2, 28, 0, 0),\n",
       " 'ext': 'grib2'}"
      ]
     },
     "execution_count": 21,
     "metadata": {},
     "output_type": "execute_result"
    }
   ],
   "source": [
    "merge.info"
   ]
  },
  {
   "cell_type": "code",
   "execution_count": 22,
   "metadata": {},
   "outputs": [
    {
     "data": {
      "text/plain": [
       "{'Date': 'Tue, 28 Feb 2023 18:05:36 GMT',\n",
       " 'Server': 'Apache',\n",
       " 'Last-Modified': 'Tue, 28 Feb 2023 16:20:23 GMT',\n",
       " 'ETag': '\"6e0fb-5f5c4f8f8bfc0\"',\n",
       " 'Accept-Ranges': 'bytes',\n",
       " 'Content-Length': '450811',\n",
       " 'Access-Control-Allow-Origin': '*',\n",
       " 'Keep-Alive': 'timeout=5, max=100',\n",
       " 'Connection': 'Keep-Alive'}"
      ]
     },
     "execution_count": 22,
     "metadata": {},
     "output_type": "execute_result"
    }
   ],
   "source": [
    "merge.header"
   ]
  },
  {
   "cell_type": "code",
   "execution_count": 23,
   "metadata": {},
   "outputs": [
    {
     "data": {
      "text/plain": [
       "'MERGE_CPTEC_20230228.grib2'"
      ]
     },
     "execution_count": 23,
     "metadata": {},
     "output_type": "execute_result"
    }
   ],
   "source": [
    "merge.filename"
   ]
  },
  {
   "cell_type": "code",
   "execution_count": 24,
   "metadata": {},
   "outputs": [],
   "source": [
    "import xarray as xr"
   ]
  },
  {
   "cell_type": "code",
   "execution_count": 96,
   "metadata": {},
   "outputs": [
    {
     "data": {
      "text/plain": [
       "<matplotlib.collections.QuadMesh at 0x1493357f0>"
      ]
     },
     "execution_count": 96,
     "metadata": {},
     "output_type": "execute_result"
    },
    {
     "data": {
      "image/png": "[encoded data removed]",
      "text/plain": [
       "<Figure size 640x480 with 2 Axes>"
      ]
     },
     "metadata": {},
     "output_type": "display_data"
    }
   ],
   "source": [
    "inpe = INPEHTTPFileSystem(Urls.MERGE)\n",
    "rain = inpe.get_file('20230228')\n",
    "path = rain.download('../tests/data')\n",
    "ds = xr.open_dataset(path, engine='cfgrib')\n",
    "\n",
    "ds['prec'].plot()"
   ]
  },
  {
   "cell_type": "code",
   "execution_count": 97,
   "metadata": {},
   "outputs": [
    {
     "data": {
      "text/plain": [
       "{'Server': 'Apache',\n",
       " 'Last-Modified': datetime.datetime(2023, 2, 28, 13, 20, 23),\n",
       " 'ETag': '\"6e0fb-5f5c4f8f8bfc0\"',\n",
       " 'Accept-Ranges': 'bytes',\n",
       " 'Content-Length': '450811',\n",
       " 'Access-Control-Allow-Origin': '*',\n",
       " 'Keep-Alive': 'timeout=5, max=100',\n",
       " 'Connection': 'Keep-Alive',\n",
       " 'Request_time': datetime.datetime(2023, 2, 28, 16, 4, 55),\n",
       " 'model': 'MERGE',\n",
       " 'provider': 'CPTEC',\n",
       " 'date': datetime.datetime(2023, 2, 28, 0, 0),\n",
       " 'ext': 'grib2'}"
      ]
     },
     "execution_count": 97,
     "metadata": {},
     "output_type": "execute_result"
    }
   ],
   "source": [
    "rain.info"
   ]
  },
  {
   "cell_type": "code",
   "execution_count": 102,
   "metadata": {},
   "outputs": [
    {
     "data": {
      "text/plain": [
       "{'atime': datetime.datetime(2023, 2, 28, 13, 20, 23),\n",
       " 'ctime': datetime.datetime(2023, 2, 28, 16, 4, 58, 694353),\n",
       " 'mtime': datetime.datetime(2023, 2, 28, 13, 20, 23),\n",
       " 'birthtime': datetime.datetime(2023, 2, 28, 13, 20, 23),\n",
       " 'size': 450811,\n",
       " 'model': 'MERGE',\n",
       " 'provider': 'CPTEC',\n",
       " 'date': datetime.datetime(2023, 2, 28, 0, 0),\n",
       " 'ext': 'grib2'}"
      ]
     },
     "execution_count": 102,
     "metadata": {},
     "output_type": "execute_result"
    }
   ],
   "source": [
    "from raindownloader.http_utils import OSFile\n",
    "file = NamedOSFile(path, MERGEFile.parse_name)\n",
    "file.info"
   ]
  },
  {
   "cell_type": "code",
   "execution_count": 100,
   "metadata": {},
   "outputs": [
    {
     "data": {
      "text/plain": [
       "'MERGE_CPTEC_20230228.grib2'"
      ]
     },
     "execution_count": 100,
     "metadata": {},
     "output_type": "execute_result"
    }
   ],
   "source": [
    "path.name"
   ]
  },
  {
   "cell_type": "code",
   "execution_count": 103,
   "metadata": {},
   "outputs": [],
   "source": [
    "import geopandas"
   ]
  },
  {
   "cell_type": "code",
   "execution_count": 106,
   "metadata": {},
   "outputs": [
    {
     "data": {
      "text/plain": [
       "['naturalearth_cities', 'naturalearth_lowres', 'nybb']"
      ]
     },
     "execution_count": 106,
     "metadata": {},
     "output_type": "execute_result"
    }
   ],
   "source": [
    "geopandas.datasets.available"
   ]
  },
  {
   "cell_type": "code",
   "execution_count": 109,
   "metadata": {},
   "outputs": [
    {
     "data": {
      "text/plain": [
       "'/Users/cordmaur/miniconda3/envs/geopandas38/lib/python3.8/site-packages/geopandas/datasets/naturalearth_lowres/naturalearth_lowres.shp'"
      ]
     },
     "execution_count": 109,
     "metadata": {},
     "output_type": "execute_result"
    }
   ],
   "source": [
    "geopandas.datasets.get_path('naturalearth_lowres')"
   ]
  },
  {
   "cell_type": "code",
   "execution_count": null,
   "metadata": {},
   "outputs": [],
   "source": []
  }
 ],
 "metadata": {
  "kernelspec": {
   "display_name": "geopandas38",
   "language": "python",
   "name": "python3"
  },
  "language_info": {
   "codemirror_mode": {
    "name": "ipython",
    "version": 3
   },
   "file_extension": ".py",
   "mimetype": "text/x-python",
   "name": "python",
   "nbconvert_exporter": "python",
   "pygments_lexer": "ipython3",
   "version": "3.8.15"
  },
  "orig_nbformat": 4,
  "vscode": {
   "interpreter": {
    "hash": "cffb94309a6fc3acedcb95117a1eae31226e3639dbd844010e62c95f1292ed3e"
   }
  }
 },
 "nbformat": 4,
 "nbformat_minor": 2
}
